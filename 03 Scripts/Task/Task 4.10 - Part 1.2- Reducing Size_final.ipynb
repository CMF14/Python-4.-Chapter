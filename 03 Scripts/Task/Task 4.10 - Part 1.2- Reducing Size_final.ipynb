{
 "cells": [
  {
   "cell_type": "markdown",
   "id": "b63da6ef-fed1-4b1e-85d5-12afca8eab6d",
   "metadata": {},
   "source": [
    "# Task 4.10 - Part 1.2 - Optimizing"
   ]
  },
  {
   "cell_type": "markdown",
   "id": "d0fbaf46-b71f-487b-9094-bbfb7554b257",
   "metadata": {},
   "source": [
    "## 1.- Importing Libraries & Dataframe "
   ]
  },
  {
   "cell_type": "code",
   "execution_count": 4,
   "id": "5bb74248-de48-41ab-88a3-36d1f7f5343c",
   "metadata": {},
   "outputs": [],
   "source": [
    "#importing libraries \n",
    "import pandas as pd\n",
    "import numpy as np\n",
    "import os\n",
    "import matplotlib.pyplot as plt\n",
    "import seaborn as sns\n",
    "import scipy"
   ]
  },
  {
   "cell_type": "code",
   "execution_count": 12,
   "id": "1621c661-c202-460c-b04d-b4932ad3d75e",
   "metadata": {},
   "outputs": [],
   "source": [
    "# Importing dataframe \n",
    "\n",
    "path = r'C:\\Users\\cmfag\\OneDrive\\Desktop\\Data Analyst Specialist\\Achievement 4\\02 DATA\\Prepared Data'\n",
    "\n",
    "df_combined_filtered = pd.read_pickle(os.path.join(path,'Data_combined_15_11.pkl'))"
   ]
  },
  {
   "cell_type": "markdown",
   "id": "b24ccfe3-f458-4caa-bf1f-51b9df3eb1c7",
   "metadata": {},
   "source": [
    "# 1.- Optimizing the Data Size\n",
    "\n",
    "Since i´m struggeling with the RAM memory and the high weight of the Data analized, i need to take some actions in order to use the data."
   ]
  },
  {
   "cell_type": "markdown",
   "id": "6a0b7986-dc27-4edc-8cdd-4626c1d7ec43",
   "metadata": {},
   "source": [
    "## 1.1- Action1 - Removing some Columns"
   ]
  },
  {
   "cell_type": "code",
   "execution_count": 8,
   "id": "000f8386-6a25-41e0-96fd-edce606cf215",
   "metadata": {},
   "outputs": [
    {
     "name": "stdout",
     "output_type": "stream",
     "text": [
      "Index(['order_id', 'user_id', 'eval_set', 'order_number', 'order_dow',\n",
      "       'order_hour_of_day', 'days_since_prior_order', 'product_id',\n",
      "       'add_to_cart_order', 'reordered', 'Unnamed: 0', 'product_name',\n",
      "       'aisle_id', 'department_id', 'prices', 'merge_check', 'day_label',\n",
      "       'busiest_day', 'busiest_period_of_day', 'max_order', 'loyalty_flag',\n",
      "       'average_spend', 'spender_flag', 'Customer_frequency', 'frequency_flag',\n",
      "       'gender', 'state', 'age', 'date_joined', 'num_dependents',\n",
      "       'family_status', 'income', 'Region', 'exclusion_flag'],\n",
      "      dtype='object')\n"
     ]
    }
   ],
   "source": [
    "print(df_combined_filtered.columns)"
   ]
  },
  {
   "cell_type": "code",
   "execution_count": 10,
   "id": "64e0c42f-75c1-4d79-994b-570291f920df",
   "metadata": {},
   "outputs": [
    {
     "name": "stdout",
     "output_type": "stream",
     "text": [
      "Total Size DataFrame: 30184.38 MB\n",
      "Memory usaged (in MB):\n",
      "product_name              2189.641903\n",
      "exclusion_flag            2187.269388\n",
      "frequency_flag            1955.305842\n",
      "loyalty_flag              1883.274947\n",
      "busiest_period_of_day     1832.577055\n",
      "busiest_day               1831.373729\n",
      "day_label                 1831.373729\n",
      "spender_flag              1774.037522\n",
      "date_joined               1712.381796\n",
      "family_status             1708.444801\n",
      "state                     1704.596956\n",
      "Region                    1623.277925\n",
      "eval_set                  1596.115499\n",
      "gender                    1595.916446\n",
      "product_id                 236.461555\n",
      "income                     236.461555\n",
      "num_dependents             236.461555\n",
      "age                        236.461555\n",
      "user_id                    236.461555\n",
      "Customer_frequency         236.461555\n",
      "average_spend              236.461555\n",
      "days_since_prior_order     236.461555\n",
      "max_order                  236.461555\n",
      "order_number               236.461555\n",
      "order_dow                  236.461555\n",
      "order_id                   236.461555\n",
      "prices                     236.461555\n",
      "department_id              236.461555\n",
      "aisle_id                   236.461555\n",
      "order_hour_of_day          236.461555\n",
      "Unnamed: 0                 236.461555\n",
      "reordered                  236.461555\n",
      "add_to_cart_order          236.461555\n",
      "Index                      236.461555\n",
      "merge_check                 29.557857\n",
      "dtype: float64\n"
     ]
    }
   ],
   "source": [
    "# Total size of DataFrame\n",
    "df_size = df_combined_filtered.memory_usage(deep=True).sum() / 1024**2\n",
    "print(f\"Total Size DataFrame: {df_size:.2f} MB\")\n",
    "\n",
    "# RAM Memory usage\n",
    "column_sizes = df_combined_filtered.memory_usage(deep=True).sort_values(ascending=False) / 1024**2\n",
    "print(\"Memory usaged (in MB):\")\n",
    "print(column_sizes)\n"
   ]
  },
  {
   "cell_type": "code",
   "execution_count": 15,
   "id": "1ca8e869-a5f0-48bc-9553-8f2f36a683c3",
   "metadata": {},
   "outputs": [
    {
     "name": "stdout",
     "output_type": "stream",
     "text": [
      "Columnas restantes en el DataFrame:\n",
      "Index(['order_number', 'order_dow', 'order_hour_of_day', 'department_id',\n",
      "       'prices', 'busiest_day', 'busiest_period_of_day', 'max_order',\n",
      "       'loyalty_flag', 'average_spend', 'spender_flag', 'Customer_frequency',\n",
      "       'frequency_flag', 'gender', 'state', 'age', 'num_dependents',\n",
      "       'family_status', 'income', 'Region', 'exclusion_flag'],\n",
      "      dtype='object')\n"
     ]
    }
   ],
   "source": [
    "# Dropping some columns\n",
    "\n",
    "columns_to_drop = [\n",
    "    'product_name', \n",
    "    'day_label',\n",
    "    'date_joined',\n",
    "    'eval_set',\n",
    "    'product_id',\n",
    "    'user_id',\n",
    "    'days_since_prior_order', \n",
    "    'order_id', \n",
    "    'aisle_id',\n",
    "    'Unnamed: 0',\n",
    "    'reordered',\n",
    "    'add_to_cart_order',\n",
    "    'merge_check'\n",
    "    ]\n",
    "\n",
    "# Crear un nuevo DataFrame sin estas columnas\n",
    "df_combined_filtered_reduced = df_combined_filtered.drop(columns=columns_to_drop)\n",
    "\n",
    "# Verificar las columnas restantes\n",
    "print(\"Columnas restantes en el DataFrame:\")\n",
    "print(df_combined_filtered_reduced.columns)"
   ]
  },
  {
   "cell_type": "code",
   "execution_count": 17,
   "id": "8ed40509-ba92-44c9-ab6b-144a4de22cf9",
   "metadata": {},
   "outputs": [
    {
     "name": "stdout",
     "output_type": "stream",
     "text": [
      "Total Size DataFrame: 20933.61 MB\n",
      "Memory usaged (in MB):\n",
      "exclusion_flag           2187.269388\n",
      "frequency_flag           1955.305842\n",
      "loyalty_flag             1883.274947\n",
      "busiest_period_of_day    1832.577055\n",
      "busiest_day              1831.373729\n",
      "spender_flag             1774.037522\n",
      "family_status            1708.444801\n",
      "state                    1704.596956\n",
      "Region                   1623.277925\n",
      "gender                   1595.916446\n",
      "prices                    236.461555\n",
      "department_id             236.461555\n",
      "max_order                 236.461555\n",
      "order_hour_of_day         236.461555\n",
      "average_spend             236.461555\n",
      "order_number              236.461555\n",
      "Customer_frequency        236.461555\n",
      "order_dow                 236.461555\n",
      "age                       236.461555\n",
      "num_dependents            236.461555\n",
      "income                    236.461555\n",
      "Index                     236.461555\n",
      "dtype: float64\n"
     ]
    }
   ],
   "source": [
    "# Total size of DataFrame\n",
    "df_size = df_combined_filtered_reduced.memory_usage(deep=True).sum() / 1024**2\n",
    "print(f\"Total Size DataFrame: {df_size:.2f} MB\")\n",
    "\n",
    "# RAM Memory usage\n",
    "column_sizes = df_combined_filtered_reduced.memory_usage(deep=True).sort_values(ascending=False) / 1024**2\n",
    "print(\"Memory usaged (in MB):\")\n",
    "print(column_sizes)\n"
   ]
  },
  {
   "cell_type": "markdown",
   "id": "1e5787b4-980e-4383-89e6-907938c7e537",
   "metadata": {},
   "source": [
    "### Result Action 1: Reduction of almost 1000 MB. But since we will create some new columns in the next points, a even higher reduction will be needed. "
   ]
  },
  {
   "cell_type": "markdown",
   "id": "d315914b-5538-4d39-ab4a-981fe13d6b2f",
   "metadata": {},
   "source": [
    "## 1.2.Action 2- Optimizing the data type of some columns"
   ]
  },
  {
   "cell_type": "code",
   "execution_count": 31,
   "id": "99ea4d37-31b2-49d6-8574-8dd2df55e0a2",
   "metadata": {},
   "outputs": [
    {
     "name": "stdout",
     "output_type": "stream",
     "text": [
      "order_number               int64\n",
      "order_dow                  int64\n",
      "order_hour_of_day          int64\n",
      "department_id            float64\n",
      "prices                   float64\n",
      "busiest_day               object\n",
      "busiest_period_of_day     object\n",
      "max_order                  int64\n",
      "loyalty_flag              object\n",
      "average_spend            float64\n",
      "spender_flag              object\n",
      "Customer_frequency       float64\n",
      "frequency_flag            object\n",
      "gender                    object\n",
      "state                     object\n",
      "age                        int64\n",
      "num_dependents             int64\n",
      "family_status             object\n",
      "income                     int64\n",
      "Region                    object\n",
      "exclusion_flag            object\n",
      "dtype: object\n"
     ]
    }
   ],
   "source": [
    "# Verifiying the data types of each column\n",
    "\n",
    "print(df_combined_filtered_reduced.dtypes)\n"
   ]
  },
  {
   "cell_type": "code",
   "execution_count": 40,
   "id": "f6b35428-ec3c-4c4c-b1e0-bc6a0d6fee6c",
   "metadata": {},
   "outputs": [
    {
     "name": "stdout",
     "output_type": "stream",
     "text": [
      "Initial Size of the frame: 20933.61 MB\n",
      "Final Size of DataFrame after optimizin numeric columns: 19101.04 MB\n",
      "Memory reduction: 1832.58 MB (8.75%)\n"
     ]
    }
   ],
   "source": [
    "# Optimize data type\n",
    "def optimize_numeric_columns_precise(df):\n",
    "    initial_size = df.memory_usage(deep=True).sum() / 1024**2\n",
    "    print(f\"Initial Size of the frame: {initial_size:.2f} MB\")\n",
    "    \n",
    "    for col in df.select_dtypes(include=['int64', 'float64']).columns:\n",
    "        c_min = df[col].min()\n",
    "        c_max = df[col].max()\n",
    "\n",
    "        # Optimizar columnas flotantes\n",
    "        if pd.api.types.is_float_dtype(df[col]):\n",
    "            df[col] = df[col].astype('float32')\n",
    "\n",
    "        # Optimizar columnas enteras\n",
    "        elif pd.api.types.is_integer_dtype(df[col]):\n",
    "            if c_min > -128 and c_max < 127:\n",
    "                df[col] = df[col].astype('int8')\n",
    "            elif c_min > -32768 and c_max < 32767:\n",
    "                df[col] = df[col].astype('int16')\n",
    "            elif c_min > -2147483648 and c_max < 2147483647:\n",
    "                df[col] = df[col].astype('int32')\n",
    "\n",
    "    final_size = df.memory_usage(deep=True).sum() / 1024**2\n",
    "    print(f\"Final Size of DataFrame after optimizin numeric columns: {final_size:.2f} MB\")\n",
    "    print(f\"Memory reduction: {(initial_size - final_size):.2f} MB ({100 * (initial_size - final_size) / initial_size:.2f}%)\")\n",
    "    return df\n",
    "\n",
    "# Aplicar la optimización numérica al DataFrame correcto\n",
    "df_combined_filtered_reduced = optimize_numeric_columns_precise(df_combined_filtered_reduced)\n"
   ]
  },
  {
   "cell_type": "code",
   "execution_count": 67,
   "id": "d94c698e-7e7e-431b-ac36-7d4c4fee78d5",
   "metadata": {},
   "outputs": [
    {
     "name": "stdout",
     "output_type": "stream",
     "text": [
      " DF Final Size after convert selected colums to categoria: 4816.71 MB\n"
     ]
    }
   ],
   "source": [
    "# Convert the selected columns to categories\n",
    "columns_to_convert = [\n",
    "    'exclusion_flag', 'frequency_flag', 'loyalty_flag', 'spender_flag',\n",
    "    'family_status', 'state', 'Region', 'gender', 'department_id'\n",
    "]\n",
    "\n",
    "for col in columns_to_convert:\n",
    "    df_combined_filtered_reduced[col] = df_combined_filtered_reduced[col].astype('category')\n",
    "\n",
    "# Check the memory usage after conversion\n",
    "final_size = df_combined_filtered_reduced.memory_usage(deep=True).sum() / 1024**2\n",
    "print(f\" DF Final Size after convert selected colums to categoria: {final_size:.2f} MB\")\n"
   ]
  },
  {
   "cell_type": "code",
   "execution_count": 65,
   "id": "280d4c97-e011-41aa-888f-615f22876b44",
   "metadata": {},
   "outputs": [
    {
     "name": "stdout",
     "output_type": "stream",
     "text": [
      "order_number                 int8\n",
      "order_dow                    int8\n",
      "order_hour_of_day            int8\n",
      "department_id            category\n",
      "prices                    float32\n",
      "busiest_day                object\n",
      "busiest_period_of_day      object\n",
      "max_order                    int8\n",
      "loyalty_flag             category\n",
      "average_spend             float32\n",
      "spender_flag             category\n",
      "Customer_frequency        float32\n",
      "frequency_flag           category\n",
      "gender                   category\n",
      "state                    category\n",
      "age                          int8\n",
      "num_dependents               int8\n",
      "family_status            category\n",
      "income                      int32\n",
      "Region                   category\n",
      "exclusion_flag           category\n",
      "dtype: object\n"
     ]
    }
   ],
   "source": [
    "print(df_combined_filtered_reduced.dtypes)\n"
   ]
  },
  {
   "cell_type": "code",
   "execution_count": 71,
   "id": "03cdb44a-df92-4940-80a7-cb86adb25953",
   "metadata": {},
   "outputs": [
    {
     "name": "stdout",
     "output_type": "stream",
     "text": [
      "Memory usage per column (in MB):\n",
      "busiest_period_of_day    1832.577055\n",
      "busiest_day              1831.373729\n",
      "Index                     236.461555\n",
      "income                    118.230778\n",
      "prices                    118.230778\n",
      "average_spend             118.230778\n",
      "Customer_frequency        118.230778\n",
      "state                      29.562506\n",
      "department_id              29.558385\n",
      "family_status              29.558104\n",
      "Region                     29.558069\n",
      "frequency_flag             29.557989\n",
      "loyalty_flag               29.557978\n",
      "spender_flag               29.557913\n",
      "gender                     29.557900\n",
      "exclusion_flag             29.557868\n",
      "order_number               29.557694\n",
      "age                        29.557694\n",
      "num_dependents             29.557694\n",
      "max_order                  29.557694\n",
      "order_hour_of_day          29.557694\n",
      "order_dow                  29.557694\n",
      "dtype: float64\n"
     ]
    }
   ],
   "source": [
    "# Verifiying Size per column\n",
    "column_sizes = df_combined_filtered_reduced.memory_usage(deep=True).sort_values(ascending=False) / 1024**2\n",
    "print(\"Memory usage per column (in MB):\")\n",
    "print(column_sizes)\n"
   ]
  },
  {
   "cell_type": "markdown",
   "id": "9c334012-c091-49ee-a016-8531556375a2",
   "metadata": {},
   "source": [
    "## 1.3 - Action 3 - Changing the type of selected variables"
   ]
  },
  {
   "cell_type": "code",
   "execution_count": 94,
   "id": "610380fa-9c62-4e8e-a0c6-24cc34635031",
   "metadata": {},
   "outputs": [
    {
     "name": "stdout",
     "output_type": "stream",
     "text": [
      "\n",
      "Counts per column 'busiest_period_of_day':\n",
      "busiest_period_of_day\n",
      "Fewest orders    30993489\n",
      "Name: count, dtype: int64\n",
      "\n",
      "Counts per column 'busiest_day':\n",
      "busiest_day\n",
      "Regularly busy    21451175\n",
      "Busiest day        5913988\n",
      "Least busy         3628326\n",
      "Name: count, dtype: int64\n"
     ]
    }
   ],
   "source": [
    "# Verify values of 'busiest_period_of_day' y 'busiest_day'\n",
    "columns_to_check = ['busiest_period_of_day', 'busiest_day']\n",
    "\n",
    "for col in columns_to_check:\n",
    "    print(f\"\\nCounts per column '{col}':\")\n",
    "    print(df_combined_filtered_reduced[col].value_counts())\n"
   ]
  },
  {
   "cell_type": "code",
   "execution_count": 96,
   "id": "81d9fa68-786a-4cba-bac8-67a2676db1b4",
   "metadata": {},
   "outputs": [
    {
     "name": "stdout",
     "output_type": "stream",
     "text": [
      "busiest_period_of_day    category\n",
      "busiest_day              category\n",
      "dtype: object\n",
      "\n",
      "New Data type after change:\n",
      "busiest_period_of_day    category\n",
      "busiest_day              category\n",
      "dtype: object\n"
     ]
    }
   ],
   "source": [
    "# Verify current type of columns\n",
    "print(df_combined_filtered_reduced[['busiest_period_of_day', 'busiest_day']].dtypes)\n",
    "\n",
    "# Covert both columns to categories\n",
    "df_combined_filtered_reduced['busiest_period_of_day'] = df_combined_filtered_reduced['busiest_period_of_day'].astype('category')\n",
    "df_combined_filtered_reduced['busiest_day'] = df_combined_filtered_reduced['busiest_day'].astype('category')\n",
    "\n",
    "# Verify data typed after convert\n",
    "print(\"\\nNew Data type after change:\")\n",
    "print(df_combined_filtered_reduced[['busiest_period_of_day', 'busiest_day']].dtypes)\n"
   ]
  },
  {
   "cell_type": "code",
   "execution_count": 98,
   "id": "7abc5489-8341-4566-a7ad-3b9e1430e1a1",
   "metadata": {},
   "outputs": [
    {
     "name": "stdout",
     "output_type": "stream",
     "text": [
      "Memory usage per column (in MB):\n",
      "Index                    236.461555\n",
      "Customer_frequency       118.230778\n",
      "income                   118.230778\n",
      "prices                   118.230778\n",
      "average_spend            118.230778\n",
      "state                     29.562506\n",
      "department_id             29.558385\n",
      "family_status             29.558104\n",
      "Region                    29.558069\n",
      "frequency_flag            29.557989\n",
      "loyalty_flag              29.557978\n",
      "busiest_day               29.557971\n",
      "spender_flag              29.557913\n",
      "gender                    29.557900\n",
      "exclusion_flag            29.557868\n",
      "busiest_period_of_day     29.557857\n",
      "order_number              29.557694\n",
      "max_order                 29.557694\n",
      "age                       29.557694\n",
      "num_dependents            29.557694\n",
      "order_hour_of_day         29.557694\n",
      "order_dow                 29.557694\n",
      "dtype: float64\n"
     ]
    }
   ],
   "source": [
    "# Verifiying Size per column\n",
    "column_sizes = df_combined_filtered_reduced.memory_usage(deep=True).sort_values(ascending=False) / 1024**2\n",
    "print(\"Memory usage per column (in MB):\")\n",
    "print(column_sizes)"
   ]
  },
  {
   "cell_type": "code",
   "execution_count": 100,
   "id": "3f1d4613-3d51-4daa-9c9e-bdf2f355e9a3",
   "metadata": {},
   "outputs": [
    {
     "name": "stdout",
     "output_type": "stream",
     "text": [
      "order_number                 int8\n",
      "order_dow                    int8\n",
      "order_hour_of_day            int8\n",
      "department_id            category\n",
      "prices                    float32\n",
      "busiest_day              category\n",
      "busiest_period_of_day    category\n",
      "max_order                    int8\n",
      "loyalty_flag             category\n",
      "average_spend             float32\n",
      "spender_flag             category\n",
      "Customer_frequency        float32\n",
      "frequency_flag           category\n",
      "gender                   category\n",
      "state                    category\n",
      "age                          int8\n",
      "num_dependents               int8\n",
      "family_status            category\n",
      "income                      int32\n",
      "Region                   category\n",
      "exclusion_flag           category\n",
      "dtype: object\n"
     ]
    }
   ],
   "source": [
    "print(df_combined_filtered_reduced.dtypes)\n"
   ]
  },
  {
   "cell_type": "code",
   "execution_count": 104,
   "id": "a5a488f4-b1a9-46b5-8948-8afdc57a4dd0",
   "metadata": {},
   "outputs": [
    {
     "name": "stdout",
     "output_type": "stream",
     "text": [
      "Tamaño total del DataFrame después de optimizar float32 e int32: 1211.87 MB\n"
     ]
    }
   ],
   "source": [
    "# Review and convert float columns to integers if possible.\n",
    "float_columns = ['prices', 'average_spend', 'Customer_frequency']\n",
    "for col in float_columns:\n",
    "    # Verificar si la columna puede convertirse a enteros\n",
    "    if (df_combined_filtered_reduced[col] % 1 == 0).all():  # Si no tiene decimales\n",
    "        df_combined_filtered_reduced[col] = df_combined_filtered_reduced[col].astype('int32')\n",
    "\n",
    "# Redcue column 'income'\n",
    "income_min = df_combined_filtered_reduced['income'].min()\n",
    "income_max = df_combined_filtered_reduced['income'].max()\n",
    "\n",
    "if income_min > -32768 and income_max < 32767:\n",
    "    df_combined_filtered_reduced['income'] = df_combined_filtered_reduced['income'].astype('int16')\n",
    "elif income_min > -128 and income_max < 127:\n",
    "    df_combined_filtered_reduced['income'] = df_combined_filtered_reduced['income'].astype('int8')\n",
    "\n",
    "# Verify the df size\n",
    "final_size = df_combined_filtered_reduced.memory_usage(deep=True).sum() / 1024**2\n",
    "print(f\"Tamaño total del DataFrame después de optimizar float32 e int32: {final_size:.2f} MB\")\n"
   ]
  },
  {
   "cell_type": "code",
   "execution_count": 106,
   "id": "e2c3703f-95eb-4b00-aed4-b59de25dd6fd",
   "metadata": {},
   "outputs": [
    {
     "name": "stdout",
     "output_type": "stream",
     "text": [
      "Memory usage per column (in MB):\n",
      "Index                    236.461555\n",
      "Customer_frequency       118.230778\n",
      "income                   118.230778\n",
      "prices                   118.230778\n",
      "average_spend            118.230778\n",
      "state                     29.562506\n",
      "department_id             29.558385\n",
      "family_status             29.558104\n",
      "Region                    29.558069\n",
      "frequency_flag            29.557989\n",
      "loyalty_flag              29.557978\n",
      "busiest_day               29.557971\n",
      "spender_flag              29.557913\n",
      "gender                    29.557900\n",
      "exclusion_flag            29.557868\n",
      "busiest_period_of_day     29.557857\n",
      "order_number              29.557694\n",
      "max_order                 29.557694\n",
      "age                       29.557694\n",
      "num_dependents            29.557694\n",
      "order_hour_of_day         29.557694\n",
      "order_dow                 29.557694\n",
      "dtype: float64\n"
     ]
    }
   ],
   "source": [
    "# Verifiying Size per column\n",
    "column_sizes = df_combined_filtered_reduced.memory_usage(deep=True).sort_values(ascending=False) / 1024**2\n",
    "print(\"Memory usage per column (in MB):\")\n",
    "print(column_sizes)"
   ]
  },
  {
   "cell_type": "code",
   "execution_count": 108,
   "id": "d69e0df1-490d-4fd3-9e6b-386294d3d511",
   "metadata": {},
   "outputs": [
    {
     "name": "stdout",
     "output_type": "stream",
     "text": [
      "order_number                 int8\n",
      "order_dow                    int8\n",
      "order_hour_of_day            int8\n",
      "department_id            category\n",
      "prices                    float32\n",
      "busiest_day              category\n",
      "busiest_period_of_day    category\n",
      "max_order                    int8\n",
      "loyalty_flag             category\n",
      "average_spend             float32\n",
      "spender_flag             category\n",
      "Customer_frequency        float32\n",
      "frequency_flag           category\n",
      "gender                   category\n",
      "state                    category\n",
      "age                          int8\n",
      "num_dependents               int8\n",
      "family_status            category\n",
      "income                      int32\n",
      "Region                   category\n",
      "exclusion_flag           category\n",
      "dtype: object\n"
     ]
    }
   ],
   "source": [
    "print(df_combined_filtered_reduced.dtypes)\n"
   ]
  },
  {
   "cell_type": "markdown",
   "id": "c596717d-a0d8-4f03-81aa-e51bb3a5c8f7",
   "metadata": {},
   "source": [
    "# Exporting optimized data"
   ]
  },
  {
   "cell_type": "code",
   "execution_count": 118,
   "id": "fdea9702-26be-4db5-8c73-0962b72369b4",
   "metadata": {},
   "outputs": [
    {
     "name": "stdout",
     "output_type": "stream",
     "text": [
      "Saved at: C:\\Users\\cmfag\\OneDrive\\Desktop\\Data Analyst Specialist\\Achievement 4\\02 DATA\\Prepared Data\\df_combined_filtered_reduced.pkl\n"
     ]
    }
   ],
   "source": [
    "file_path = r'C:\\Users\\cmfag\\OneDrive\\Desktop\\Data Analyst Specialist\\Achievement 4\\02 DATA\\Prepared Data\\df_combined_filtered_reduced.pkl'\n",
    "\n",
    "# Save the DataFrame as a pickle file\n",
    "df_combined_filtered_reduced.to_pickle(file_path)\n",
    "\n",
    "# Confirm successful save\n",
    "print(f\"Saved at: {file_path}\")\n"
   ]
  }
 ],
 "metadata": {
  "kernelspec": {
   "display_name": "Python 3 (ipykernel)",
   "language": "python",
   "name": "python3"
  },
  "language_info": {
   "codemirror_mode": {
    "name": "ipython",
    "version": 3
   },
   "file_extension": ".py",
   "mimetype": "text/x-python",
   "name": "python",
   "nbconvert_exporter": "python",
   "pygments_lexer": "ipython3",
   "version": "3.12.7"
  }
 },
 "nbformat": 4,
 "nbformat_minor": 5
}
