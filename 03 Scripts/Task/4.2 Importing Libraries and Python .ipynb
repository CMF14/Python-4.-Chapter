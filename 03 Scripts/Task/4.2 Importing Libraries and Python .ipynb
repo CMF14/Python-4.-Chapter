{
 "cells": [
  {
   "cell_type": "markdown",
   "id": "e562f649-7263-47eb-b969-d3e95e242f03",
   "metadata": {
    "panel-layout": {
     "height": 60.57500457763672,
     "visible": true,
     "width": 100
    }
   },
   "source": [
    "# Importing Libraries"
   ]
  },
  {
   "cell_type": "code",
   "execution_count": 2,
   "id": "f6f109d9-5267-47f8-a8ae-60c47b00eef8",
   "metadata": {},
   "outputs": [],
   "source": [
    "import pandas as pd\n",
    "import numpy as np\n",
    "import os"
   ]
  },
  {
   "cell_type": "markdown",
   "id": "20121505-f35a-4137-98ee-431ba5a1ee7d",
   "metadata": {
    "jp-MarkdownHeadingCollapsed": true,
    "panel-layout": {
     "height": 60.57500457763672,
     "visible": true,
     "width": 100
    }
   },
   "source": [
    "# Working with Python Data Types"
   ]
  },
  {
   "cell_type": "markdown",
   "id": "9c659731-e3c9-4ad6-bf44-367dd272baea",
   "metadata": {
    "panel-layout": {
     "height": 60.57500457763672,
     "visible": true,
     "width": 100
    }
   },
   "source": [
    "# 1.- Code 3 different ways of reaching a result of 100 by adding or subtracting numeric variables."
   ]
  },
  {
   "cell_type": "markdown",
   "id": "6f1bc2c5-856d-4622-9f20-43299098db78",
   "metadata": {
    "panel-layout": {
     "height": 60.57500457763672,
     "visible": true,
     "width": 100
    }
   },
   "source": [
    "# 1.1 way 1:"
   ]
  },
  {
   "cell_type": "code",
   "execution_count": 16,
   "id": "8667240a-4ce3-4d35-a386-1e498e03911d",
   "metadata": {},
   "outputs": [],
   "source": [
    "x = 50"
   ]
  },
  {
   "cell_type": "code",
   "execution_count": 24,
   "id": "4d4c53e6-14f6-4094-973d-77bc3aad7ba6",
   "metadata": {},
   "outputs": [],
   "source": [
    "a = x * 2"
   ]
  },
  {
   "cell_type": "code",
   "execution_count": 28,
   "id": "a5c895be-8cb9-408a-819e-697351abd404",
   "metadata": {
    "panel-layout": {
     "height": 0,
     "visible": true,
     "width": 100
    }
   },
   "outputs": [
    {
     "name": "stdout",
     "output_type": "stream",
     "text": [
      "100\n"
     ]
    }
   ],
   "source": [
    "print ( a )"
   ]
  },
  {
   "cell_type": "markdown",
   "id": "da4da2bb-5dfd-4349-a7f6-56aac3c3786e",
   "metadata": {
    "panel-layout": {
     "height": 60.57500457763672,
     "visible": true,
     "width": 100
    }
   },
   "source": [
    "# 1.1 way 2:"
   ]
  },
  {
   "cell_type": "code",
   "execution_count": 32,
   "id": "7863fead-2959-47ab-a617-8c0135d4e709",
   "metadata": {},
   "outputs": [],
   "source": [
    "y = 25"
   ]
  },
  {
   "cell_type": "code",
   "execution_count": 36,
   "id": "c5fc99ea-e8f4-4911-ab91-9564a5ec71bb",
   "metadata": {
    "panel-layout": {
     "height": 27.137500762939453,
     "visible": true,
     "width": 100
    }
   },
   "outputs": [
    {
     "data": {
      "text/plain": [
       "100"
      ]
     },
     "execution_count": 36,
     "metadata": {},
     "output_type": "execute_result"
    }
   ],
   "source": [
    "x + y * 2"
   ]
  },
  {
   "cell_type": "markdown",
   "id": "a02d7981-fff2-4bf6-94d7-f94093703ca6",
   "metadata": {
    "panel-layout": {
     "height": 60.57500457763672,
     "visible": true,
     "width": 100
    }
   },
   "source": [
    "# 1.1 way 3:"
   ]
  },
  {
   "cell_type": "code",
   "execution_count": 38,
   "id": "f204871a-71c9-47c3-87bb-fdb3441e874f",
   "metadata": {
    "panel-layout": {
     "height": 27.137500762939453,
     "visible": true,
     "width": 100
    }
   },
   "outputs": [
    {
     "data": {
      "text/plain": [
       "100"
      ]
     },
     "execution_count": 38,
     "metadata": {},
     "output_type": "execute_result"
    }
   ],
   "source": [
    "y * 4"
   ]
  },
  {
   "cell_type": "markdown",
   "id": "c0c86305-5f3b-451a-8396-30c7678c4ecf",
   "metadata": {
    "panel-layout": {
     "height": 60.57500457763672,
     "visible": true,
     "width": 100
    }
   },
   "source": [
    "# 2 Code 2 floating-point variables and divide them by each other"
   ]
  },
  {
   "cell_type": "code",
   "execution_count": 40,
   "id": "0b390b0b-d6fc-471d-af27-efe9ad15e6b4",
   "metadata": {},
   "outputs": [],
   "source": [
    "c = 1.410"
   ]
  },
  {
   "cell_type": "code",
   "execution_count": 42,
   "id": "a16b86df-3c59-4f01-a521-43795b01b246",
   "metadata": {},
   "outputs": [],
   "source": [
    "d = 10.410"
   ]
  },
  {
   "cell_type": "code",
   "execution_count": 44,
   "id": "a8af36e5-6b97-4fbb-ac40-f28c1b5f0269",
   "metadata": {
    "panel-layout": {
     "height": 27.137500762939453,
     "visible": true,
     "width": 100
    }
   },
   "outputs": [
    {
     "data": {
      "text/plain": [
       "0.13544668587896252"
      ]
     },
     "execution_count": 44,
     "metadata": {},
     "output_type": "execute_result"
    }
   ],
   "source": [
    "c / d"
   ]
  },
  {
   "cell_type": "markdown",
   "id": "46b76b11-0e04-47df-917d-17abdc7bef22",
   "metadata": {
    "panel-layout": {
     "height": 60.57500457763672,
     "visible": true,
     "width": 100
    }
   },
   "source": [
    "# 3 Construct a short word made of separate strings (you’ll need to concatenate some strings!).3"
   ]
  },
  {
   "cell_type": "code",
   "execution_count": 154,
   "id": "e2c15390-f013-4733-99d5-8b828121e5f1",
   "metadata": {},
   "outputs": [],
   "source": [
    "i = 'In '; g = 'Germany '; s = 'is ' ; w= 'cloudy. ' ; l = ' I love '"
   ]
  },
  {
   "cell_type": "code",
   "execution_count": 71,
   "id": "3457f90c-7c53-4864-831c-934f9c1741a0",
   "metadata": {
    "panel-layout": {
     "height": 51.13750076293945,
     "visible": true,
     "width": 100
    }
   },
   "outputs": [
    {
     "data": {
      "text/plain": [
       "'In Germany is cloudy. '"
      ]
     },
     "execution_count": 71,
     "metadata": {},
     "output_type": "execute_result"
    }
   ],
   "source": [
    "i + g + s + w"
   ]
  },
  {
   "cell_type": "code",
   "execution_count": 156,
   "id": "735dd038-8008-4987-a5d5-5b962dca6604",
   "metadata": {},
   "outputs": [
    {
     "data": {
      "text/plain": [
       "' I love Germany '"
      ]
     },
     "execution_count": 156,
     "metadata": {},
     "output_type": "execute_result"
    }
   ],
   "source": [
    "l+g"
   ]
  },
  {
   "cell_type": "markdown",
   "id": "84c9a93e-9fda-4b0b-87f6-d9ebcfb0001d",
   "metadata": {
    "panel-layout": {
     "height": 60.57500457763672,
     "visible": true,
     "width": 100
    }
   },
   "source": [
    "# Bonus Track"
   ]
  },
  {
   "cell_type": "code",
   "execution_count": 131,
   "id": "7b9bd67a-3b7f-47fb-91a2-d4947d0fad55",
   "metadata": {},
   "outputs": [],
   "source": [
    "sentence = i + g + s + w"
   ]
  },
  {
   "cell_type": "code",
   "execution_count": 150,
   "id": "cbdf4807-4732-406c-86f1-33db3bdd2ac2",
   "metadata": {
    "panel-layout": {
     "height": 171.10000610351562,
     "visible": true,
     "width": 100
    }
   },
   "outputs": [
    {
     "data": {
      "text/plain": [
       "'In Germany is cloudy. In Germany is cloudy. In Germany is cloudy. In Germany is cloudy. In Germany is cloudy. In Germany is cloudy. In Germany is cloudy. In Germany is cloudy. In Germany is cloudy. In Germany is cloudy. In Germany is cloudy. In Germany is cloudy. In Germany is cloudy. In Germany is cloudy. In Germany is cloudy. In Germany is cloudy. In Germany is cloudy. In Germany is cloudy. In Germany is cloudy. In Germany is cloudy. In Germany is cloudy. In Germany is cloudy. In Germany is cloudy. In Germany is cloudy. In Germany is cloudy. In Germany is cloudy. In Germany is cloudy. In Germany is cloudy. In Germany is cloudy. In Germany is cloudy. In Germany is cloudy. In Germany is cloudy. In Germany is cloudy. In Germany is cloudy. In Germany is cloudy. In Germany is cloudy. In Germany is cloudy. In Germany is cloudy. In Germany is cloudy. In Germany is cloudy. In Germany is cloudy. In Germany is cloudy. In Germany is cloudy. In Germany is cloudy. In Germany is cloudy. In Germany is cloudy. In Germany is cloudy. In Germany is cloudy. In Germany is cloudy. In Germany is cloudy. In Germany is cloudy. In Germany is cloudy. In Germany is cloudy. In Germany is cloudy. In Germany is cloudy. In Germany is cloudy. In Germany is cloudy. In Germany is cloudy. In Germany is cloudy. In Germany is cloudy. In Germany is cloudy. In Germany is cloudy. In Germany is cloudy. In Germany is cloudy. In Germany is cloudy. In Germany is cloudy. In Germany is cloudy. In Germany is cloudy. In Germany is cloudy. In Germany is cloudy. In Germany is cloudy. In Germany is cloudy. In Germany is cloudy. In Germany is cloudy. In Germany is cloudy. In Germany is cloudy. In Germany is cloudy. In Germany is cloudy. In Germany is cloudy. In Germany is cloudy. In Germany is cloudy. In Germany is cloudy. In Germany is cloudy. In Germany is cloudy. In Germany is cloudy. In Germany is cloudy. In Germany is cloudy. In Germany is cloudy. In Germany is cloudy. In Germany is cloudy. In Germany is cloudy. In Germany is cloudy. In Germany is cloudy. In Germany is cloudy. In Germany is cloudy. In Germany is cloudy. In Germany is cloudy. In Germany is cloudy. In Germany is cloudy. In Germany is cloudy. '"
      ]
     },
     "execution_count": 150,
     "metadata": {},
     "output_type": "execute_result"
    }
   ],
   "source": [
    "sentence * 100"
   ]
  }
 ],
 "metadata": {
  "kernelspec": {
   "display_name": "Python 3 (ipykernel)",
   "language": "python",
   "name": "python3"
  },
  "language_info": {
   "codemirror_mode": {
    "name": "ipython",
    "version": 3
   },
   "file_extension": ".py",
   "mimetype": "text/x-python",
   "name": "python",
   "nbconvert_exporter": "python",
   "pygments_lexer": "ipython3",
   "version": "3.12.7"
  },
  "panel-cell-order": [
   "e562f649-7263-47eb-b969-d3e95e242f03",
   "20121505-f35a-4137-98ee-431ba5a1ee7d",
   "9c659731-e3c9-4ad6-bf44-367dd272baea",
   "6f1bc2c5-856d-4622-9f20-43299098db78",
   "a5c895be-8cb9-408a-819e-697351abd404",
   "da4da2bb-5dfd-4349-a7f6-56aac3c3786e",
   "c5fc99ea-e8f4-4911-ab91-9564a5ec71bb",
   "a02d7981-fff2-4bf6-94d7-f94093703ca6",
   "f204871a-71c9-47c3-87bb-fdb3441e874f",
   "c0c86305-5f3b-451a-8396-30c7678c4ecf",
   "a8af36e5-6b97-4fbb-ac40-f28c1b5f0269",
   "46b76b11-0e04-47df-917d-17abdc7bef22",
   "3457f90c-7c53-4864-831c-934f9c1741a0",
   "84c9a93e-9fda-4b0b-87f6-d9ebcfb0001d",
   "cbdf4807-4732-406c-86f1-33db3bdd2ac2"
  ]
 },
 "nbformat": 4,
 "nbformat_minor": 5
}
