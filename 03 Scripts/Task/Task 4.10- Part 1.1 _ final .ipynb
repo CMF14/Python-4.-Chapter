{
 "cells": [
  {
   "cell_type": "markdown",
   "id": "94c863b2-3a4a-4192-b0c1-fdf358f7bd70",
   "metadata": {},
   "source": [
    "# Task 10 - Part Nr. 1"
   ]
  },
  {
   "cell_type": "markdown",
   "id": "449908da-b493-45d4-b8ca-435b7e7a1f6f",
   "metadata": {},
   "source": [
    "### Overall Goal: goal will be to provide better insight for customer profiling in terms of ads, bonus programs, and sales information."
   ]
  },
  {
   "cell_type": "markdown",
   "id": "d6194b7a-0467-4496-9044-9b4131c87c91",
   "metadata": {},
   "source": [
    "## 1.- Importing Libraries & Dataframe "
   ]
  },
  {
   "cell_type": "code",
   "execution_count": 6,
   "id": "715a5b2b-9735-44ca-a63a-86e87d91f65f",
   "metadata": {},
   "outputs": [],
   "source": [
    "#importing libraries \n",
    "import pandas as pd\n",
    "import numpy as np\n",
    "import os\n",
    "import matplotlib.pyplot as plt\n",
    "import seaborn as sns\n",
    "import scipy"
   ]
  },
  {
   "cell_type": "code",
   "execution_count": 8,
   "id": "2a45299e-c074-44e9-9aa7-a6b6ad987850",
   "metadata": {},
   "outputs": [],
   "source": [
    "# Importing dataframe \n",
    "\n",
    "path = r'C:\\Users\\cmfag\\OneDrive\\Desktop\\Data Analyst Specialist\\Achievement 4\\4.3_orders_products'\n",
    "\n",
    "df_combined = pd.read_pickle(os.path.join(path, '02 Data','Prepared Data', 'Data_combined_13_11.pkl'))"
   ]
  },
  {
   "cell_type": "code",
   "execution_count": 12,
   "id": "74f66fdd-ddd8-4f94-8fba-e21b23b5ae53",
   "metadata": {},
   "outputs": [
    {
     "data": {
      "text/html": [
       "<div>\n",
       "<style scoped>\n",
       "    .dataframe tbody tr th:only-of-type {\n",
       "        vertical-align: middle;\n",
       "    }\n",
       "\n",
       "    .dataframe tbody tr th {\n",
       "        vertical-align: top;\n",
       "    }\n",
       "\n",
       "    .dataframe thead th {\n",
       "        text-align: right;\n",
       "    }\n",
       "</style>\n",
       "<table border=\"1\" class=\"dataframe\">\n",
       "  <thead>\n",
       "    <tr style=\"text-align: right;\">\n",
       "      <th></th>\n",
       "      <th>order_id</th>\n",
       "      <th>user_id</th>\n",
       "      <th>eval_set</th>\n",
       "      <th>order_number</th>\n",
       "      <th>order_dow</th>\n",
       "      <th>order_hour_of_day</th>\n",
       "      <th>days_since_prior_order</th>\n",
       "      <th>product_id</th>\n",
       "      <th>add_to_cart_order</th>\n",
       "      <th>reordered</th>\n",
       "      <th>...</th>\n",
       "      <th>frequency_flag</th>\n",
       "      <th>first_name</th>\n",
       "      <th>last_name</th>\n",
       "      <th>gender</th>\n",
       "      <th>state</th>\n",
       "      <th>age</th>\n",
       "      <th>date_joined</th>\n",
       "      <th>num_dependents</th>\n",
       "      <th>family_status</th>\n",
       "      <th>income</th>\n",
       "    </tr>\n",
       "  </thead>\n",
       "  <tbody>\n",
       "    <tr>\n",
       "      <th>0</th>\n",
       "      <td>2539329</td>\n",
       "      <td>1</td>\n",
       "      <td>prior</td>\n",
       "      <td>1</td>\n",
       "      <td>2</td>\n",
       "      <td>8</td>\n",
       "      <td>NaN</td>\n",
       "      <td>196</td>\n",
       "      <td>1</td>\n",
       "      <td>0</td>\n",
       "      <td>...</td>\n",
       "      <td>Non_frequent_customer</td>\n",
       "      <td>Linda</td>\n",
       "      <td>Nguyen</td>\n",
       "      <td>Female</td>\n",
       "      <td>Alabama</td>\n",
       "      <td>31</td>\n",
       "      <td>2/17/2019</td>\n",
       "      <td>3</td>\n",
       "      <td>married</td>\n",
       "      <td>40423</td>\n",
       "    </tr>\n",
       "    <tr>\n",
       "      <th>1</th>\n",
       "      <td>2539329</td>\n",
       "      <td>1</td>\n",
       "      <td>prior</td>\n",
       "      <td>1</td>\n",
       "      <td>2</td>\n",
       "      <td>8</td>\n",
       "      <td>NaN</td>\n",
       "      <td>14084</td>\n",
       "      <td>2</td>\n",
       "      <td>0</td>\n",
       "      <td>...</td>\n",
       "      <td>Non_frequent_customer</td>\n",
       "      <td>Linda</td>\n",
       "      <td>Nguyen</td>\n",
       "      <td>Female</td>\n",
       "      <td>Alabama</td>\n",
       "      <td>31</td>\n",
       "      <td>2/17/2019</td>\n",
       "      <td>3</td>\n",
       "      <td>married</td>\n",
       "      <td>40423</td>\n",
       "    </tr>\n",
       "  </tbody>\n",
       "</table>\n",
       "<p>2 rows × 34 columns</p>\n",
       "</div>"
      ],
      "text/plain": [
       "   order_id  user_id eval_set  order_number  order_dow  order_hour_of_day  \\\n",
       "0   2539329        1    prior             1          2                  8   \n",
       "1   2539329        1    prior             1          2                  8   \n",
       "\n",
       "   days_since_prior_order  product_id  add_to_cart_order  reordered  ...  \\\n",
       "0                     NaN         196                  1          0  ...   \n",
       "1                     NaN       14084                  2          0  ...   \n",
       "\n",
       "          frequency_flag first_name  last_name  gender    state age  \\\n",
       "0  Non_frequent_customer      Linda     Nguyen  Female  Alabama  31   \n",
       "1  Non_frequent_customer      Linda     Nguyen  Female  Alabama  31   \n",
       "\n",
       "  date_joined num_dependents family_status  income  \n",
       "0   2/17/2019              3       married   40423  \n",
       "1   2/17/2019              3       married   40423  \n",
       "\n",
       "[2 rows x 34 columns]"
      ]
     },
     "execution_count": 12,
     "metadata": {},
     "output_type": "execute_result"
    }
   ],
   "source": [
    "df_combined.head(2)"
   ]
  },
  {
   "cell_type": "markdown",
   "id": "854f5cf7-d09a-4138-9b1d-f8849d7d94ac",
   "metadata": {},
   "source": [
    "## 2.- Adress PII Data "
   ]
  },
  {
   "cell_type": "code",
   "execution_count": 10,
   "id": "aa1ecebd-2322-4279-9774-2549c2618c24",
   "metadata": {},
   "outputs": [],
   "source": [
    "# Drop PII columns\n",
    "df_combined = df_combined.drop(columns=['first_name','last_name'])\n"
   ]
  },
  {
   "cell_type": "code",
   "execution_count": 12,
   "id": "83ef6dac-fb86-4c52-be9b-498b135ab085",
   "metadata": {},
   "outputs": [
    {
     "data": {
      "text/html": [
       "<div>\n",
       "<style scoped>\n",
       "    .dataframe tbody tr th:only-of-type {\n",
       "        vertical-align: middle;\n",
       "    }\n",
       "\n",
       "    .dataframe tbody tr th {\n",
       "        vertical-align: top;\n",
       "    }\n",
       "\n",
       "    .dataframe thead th {\n",
       "        text-align: right;\n",
       "    }\n",
       "</style>\n",
       "<table border=\"1\" class=\"dataframe\">\n",
       "  <thead>\n",
       "    <tr style=\"text-align: right;\">\n",
       "      <th></th>\n",
       "      <th>order_id</th>\n",
       "      <th>user_id</th>\n",
       "      <th>eval_set</th>\n",
       "      <th>order_number</th>\n",
       "      <th>order_dow</th>\n",
       "      <th>order_hour_of_day</th>\n",
       "      <th>days_since_prior_order</th>\n",
       "      <th>product_id</th>\n",
       "      <th>add_to_cart_order</th>\n",
       "      <th>reordered</th>\n",
       "      <th>...</th>\n",
       "      <th>spender_flag</th>\n",
       "      <th>Customer_frequency</th>\n",
       "      <th>frequency_flag</th>\n",
       "      <th>gender</th>\n",
       "      <th>state</th>\n",
       "      <th>age</th>\n",
       "      <th>date_joined</th>\n",
       "      <th>num_dependents</th>\n",
       "      <th>family_status</th>\n",
       "      <th>income</th>\n",
       "    </tr>\n",
       "  </thead>\n",
       "  <tbody>\n",
       "    <tr>\n",
       "      <th>0</th>\n",
       "      <td>2539329</td>\n",
       "      <td>1</td>\n",
       "      <td>prior</td>\n",
       "      <td>1</td>\n",
       "      <td>2</td>\n",
       "      <td>8</td>\n",
       "      <td>NaN</td>\n",
       "      <td>196</td>\n",
       "      <td>1</td>\n",
       "      <td>0</td>\n",
       "      <td>...</td>\n",
       "      <td>Low_spender</td>\n",
       "      <td>20.5</td>\n",
       "      <td>Non_frequent_customer</td>\n",
       "      <td>Female</td>\n",
       "      <td>Alabama</td>\n",
       "      <td>31</td>\n",
       "      <td>2/17/2019</td>\n",
       "      <td>3</td>\n",
       "      <td>married</td>\n",
       "      <td>40423</td>\n",
       "    </tr>\n",
       "    <tr>\n",
       "      <th>1</th>\n",
       "      <td>2539329</td>\n",
       "      <td>1</td>\n",
       "      <td>prior</td>\n",
       "      <td>1</td>\n",
       "      <td>2</td>\n",
       "      <td>8</td>\n",
       "      <td>NaN</td>\n",
       "      <td>14084</td>\n",
       "      <td>2</td>\n",
       "      <td>0</td>\n",
       "      <td>...</td>\n",
       "      <td>Low_spender</td>\n",
       "      <td>20.5</td>\n",
       "      <td>Non_frequent_customer</td>\n",
       "      <td>Female</td>\n",
       "      <td>Alabama</td>\n",
       "      <td>31</td>\n",
       "      <td>2/17/2019</td>\n",
       "      <td>3</td>\n",
       "      <td>married</td>\n",
       "      <td>40423</td>\n",
       "    </tr>\n",
       "  </tbody>\n",
       "</table>\n",
       "<p>2 rows × 32 columns</p>\n",
       "</div>"
      ],
      "text/plain": [
       "   order_id  user_id eval_set  order_number  order_dow  order_hour_of_day  \\\n",
       "0   2539329        1    prior             1          2                  8   \n",
       "1   2539329        1    prior             1          2                  8   \n",
       "\n",
       "   days_since_prior_order  product_id  add_to_cart_order  reordered  ...  \\\n",
       "0                     NaN         196                  1          0  ...   \n",
       "1                     NaN       14084                  2          0  ...   \n",
       "\n",
       "   spender_flag Customer_frequency         frequency_flag  gender    state  \\\n",
       "0   Low_spender               20.5  Non_frequent_customer  Female  Alabama   \n",
       "1   Low_spender               20.5  Non_frequent_customer  Female  Alabama   \n",
       "\n",
       "  age date_joined num_dependents family_status  income  \n",
       "0  31   2/17/2019              3       married   40423  \n",
       "1  31   2/17/2019              3       married   40423  \n",
       "\n",
       "[2 rows x 32 columns]"
      ]
     },
     "execution_count": 12,
     "metadata": {},
     "output_type": "execute_result"
    }
   ],
   "source": [
    "\n",
    "# Verifying if the columns first and last name are dropped\n",
    "df_combined.head(2)\n"
   ]
  },
  {
   "cell_type": "markdown",
   "id": "b58a7a99-c3c7-4a79-807e-2264b10f6f1d",
   "metadata": {},
   "source": [
    "## 3.- Customer behavior comparison per geographic areas"
   ]
  },
  {
   "cell_type": "markdown",
   "id": "a3da7020-10a5-4e1e-90e3-73973e75d857",
   "metadata": {},
   "source": [
    "### 3.1 Creating the column region "
   ]
  },
  {
   "cell_type": "code",
   "execution_count": 14,
   "id": "5fe76d1b-af51-4a73-a5c0-6b4c9bf53ded",
   "metadata": {},
   "outputs": [
    {
     "name": "stdout",
     "output_type": "stream",
     "text": [
      "Number of missing values in 'Region': 0\n"
     ]
    }
   ],
   "source": [
    "state_region = {\n",
    "    'Connecticut': 'Northeast', 'Maine': 'Northeast', 'Massachusetts': 'Northeast', 'New Hampshire': 'Northeast', \n",
    "    'Rhode Island': 'Northeast', 'Vermont': 'Northeast', 'New Jersey': 'Northeast', 'New York': 'Northeast', \n",
    "    'Pennsylvania': 'Northeast', 'Illinois': 'Midwest', 'Indiana': 'Midwest', 'Michigan': 'Midwest', 'Ohio': 'Midwest', \n",
    "    'Wisconsin': 'Midwest', 'Iowa': 'Midwest', 'Kansas': 'Midwest', 'Minnesota': 'Midwest', 'Missouri': 'Midwest', \n",
    "    'Nebraska': 'Midwest', 'North Dakota': 'Midwest', 'South Dakota': 'Midwest', 'Delaware': 'South', 'Florida': 'South', \n",
    "    'Georgia': 'South', 'Maryland': 'South', 'North Carolina': 'South', 'South Carolina': 'South', 'Virginia': 'South', \n",
    "    'West Virginia': 'South', 'Alabama': 'South', 'Kentucky': 'South', 'Mississippi': 'South', 'Tennessee': 'South', \n",
    "    'Arkansas': 'South', 'Louisiana': 'South', 'Oklahoma': 'South', 'Texas': 'South', 'Arizona': 'West', 'Colorado': 'West', \n",
    "    'Idaho': 'West', 'Montana': 'West', 'Nevada': 'West', 'New Mexico': 'West', 'Utah': 'West', 'Wyoming': 'West', \n",
    "    'Alaska': 'West', 'California': 'West', 'Hawaii': 'West', 'Oregon': 'West', 'Washington': 'West',\n",
    "    'District of Columbia': 'South'\n",
    "}\n",
    "\n",
    "# Map the full state names to regions\n",
    "df_combined['Region'] = df_combined['state'].map(state_region)\n",
    "\n",
    "# Check for missing values in the 'Region' column again\n",
    "missing_values_region = df_combined['Region'].isnull().sum()\n",
    "print(f\"Number of missing values in 'Region': {missing_values_region}\")"
   ]
  },
  {
   "cell_type": "code",
   "execution_count": 16,
   "id": "62149a6f-40c8-41f1-b245-d704f904953a",
   "metadata": {},
   "outputs": [
    {
     "data": {
      "text/plain": [
       "Region\n",
       "South        10801982\n",
       "West          8300617\n",
       "Midwest       7604016\n",
       "Northeast     5728444\n",
       "Name: count, dtype: int64"
      ]
     },
     "execution_count": 16,
     "metadata": {},
     "output_type": "execute_result"
    }
   ],
   "source": [
    "df_combined['Region'].value_counts(dropna=False)"
   ]
  },
  {
   "cell_type": "markdown",
   "id": "201b26b0-66c9-4670-886a-faa2e59fc388",
   "metadata": {},
   "source": [
    "### 3.2 Difference in spending habits between the different U.S. regions"
   ]
  },
  {
   "cell_type": "code",
   "execution_count": 18,
   "id": "7e192ad1-3ac8-4e10-8556-e05202ab897e",
   "metadata": {},
   "outputs": [
    {
     "name": "stdout",
     "output_type": "stream",
     "text": [
      "spender_flag  High_spender  Low_spender\n",
      "Region                                 \n",
      "Midwest             156084      7447932\n",
      "Northeast           108276      5620168\n",
      "South               209878     10592104\n",
      "West                160440      8140177\n"
     ]
    }
   ],
   "source": [
    "#Creating a crosstab\n",
    "crosstab = pd.crosstab(df_combined['Region'], df_combined['spender_flag'], dropna=False)\n",
    "\n",
    "# Print the crosstab to see the distribution\n",
    "print(crosstab)\n"
   ]
  },
  {
   "cell_type": "code",
   "execution_count": 20,
   "id": "11c3ffdf-1a24-41ec-9897-da358e47db44",
   "metadata": {},
   "outputs": [
    {
     "data": {
      "image/png": "[encoded data removed]",
      "text/plain": [
       "<Figure size 1400x700 with 1 Axes>"
      ]
     },
     "metadata": {},
     "output_type": "display_data"
    }
   ],
   "source": [
    "# aggregation step\n",
    "region_spending_hab = df_combined.groupby(['Region', 'spender_flag']).size().unstack(fill_value=0).reset_index()\n",
    "\n",
    "# Rename columns\n",
    "region_spending_hab.columns = ['Region', 'High Spender', 'Low Spender']\n",
    "\n",
    "# Buyer per region\n",
    "region_spending_hab['Total Buyer'] = region_spending_hab['High Spender'] + region_spending_hab['Low Spender']\n",
    "\n",
    "# Create the bar chart to see the differences between the regions \n",
    "plt.figure(figsize=(14, 7))\n",
    "sns.barplot(data=region_spending_hab.melt(id_vars='Region', value_vars=['High Spender', 'Low Spender']), \n",
    "            x='Region', y='value', hue='variable', palette='inferno')\n",
    "\n",
    "# Customize the plot\n",
    "plt.title('Amount of High and Low Spenders by Region')\n",
    "plt.xlabel('Region')\n",
    "plt.ylabel('Number')\n",
    "plt.xticks(rotation=45)\n",
    "plt.tight_layout()\n",
    "\n",
    "# Define the directory and file path for saving the plot\n",
    "path_visual = r'C:\\Users\\cmfag\\OneDrive\\Desktop\\Data Analyst Specialist\\Achievement 4\\4.3_orders_products\\04 Analysis\\Visualizations\\Task 4.10'\n",
    "file_path = os.path.join(path_visual, 'spending_behaivour_by_region.png')\n",
    "\n",
    "\n",
    "# Ensure the directory exists\n",
    "if not os.path.exists(path_visual):\n",
    "    os.makedirs(path_visual)\n",
    "\n",
    "# Save the plot\n",
    "plt.savefig(file_path)\n",
    "plt.show()"
   ]
  },
  {
   "cell_type": "markdown",
   "id": "94faf276-3858-4959-abed-c8c82c499153",
   "metadata": {},
   "source": [
    "#### Conclusions: The region with the highest number of Instacart customers in the US is the South, which has the largest proportion of both low spenders and high spenders. The South is followed by the West, Midwest, and Northeast regions. Overall, the visualization shows a relatively similar distribution of high and low spenders across regions."
   ]
  },
  {
   "cell_type": "markdown",
   "id": "0a411437-62fe-4563-9159-5a386b00c5aa",
   "metadata": {},
   "source": [
    "## 4.- Low-activity Customers"
   ]
  },
  {
   "cell_type": "markdown",
   "id": "b85c4471-b43b-4472-add4-de1633ecbb31",
   "metadata": {},
   "source": [
    "Conditions: Low-activity Customers are customers with less than 5 orders.\n",
    "\n",
    "Task: \n",
    "\n",
    "1.- Create a level with Low-activity Customers --> Level name: low-activity-customers\n",
    "\n",
    "2.- Exclude the Low-activity Customers our of the dataframe and rename the df to --> df_combined_filtered\n",
    "\n"
   ]
  },
  {
   "cell_type": "code",
   "execution_count": 22,
   "id": "9ce6204c-9f00-4628-963d-7e16ba5b66f9",
   "metadata": {},
   "outputs": [
    {
     "name": "stderr",
     "output_type": "stream",
     "text": [
      "C:\\Users\\cmfag\\AppData\\Local\\Temp\\ipykernel_19624\\2074315342.py:1: FutureWarning: The provided callable <function max at 0x0000023369E2C860> is currently using SeriesGroupBy.max. In a future version of pandas, the provided callable will be used directly. To keep current behavior pass the string \"max\" instead.\n",
      "  df_combined['max_order'] = df_combined.groupby(['user_id'])['order_number'].transform(np.max)\n"
     ]
    }
   ],
   "source": [
    "df_combined['max_order'] = df_combined.groupby(['user_id'])['order_number'].transform(np.max)"
   ]
  },
  {
   "cell_type": "code",
   "execution_count": 24,
   "id": "07e3cea8-ea4e-4950-b3fd-136c3a2b1f79",
   "metadata": {},
   "outputs": [
    {
     "data": {
      "text/plain": [
       "exclusion_flag\n",
       "Regular-activity customer    30993489\n",
       "Low-activity customer         1441570\n",
       "Name: count, dtype: int64"
      ]
     },
     "execution_count": 24,
     "metadata": {},
     "output_type": "execute_result"
    }
   ],
   "source": [
    "# Creating the level\n",
    "\n",
    "df_combined.loc[df_combined['max_order'] < 5, 'exclusion_flag'] = 'Low-activity customer'\n",
    "df_combined.loc[df_combined['max_order'] >= 5, 'exclusion_flag'] = 'Regular-activity customer'\n",
    "\n",
    "df_combined ['exclusion_flag'].value_counts()"
   ]
  },
  {
   "cell_type": "code",
   "execution_count": 28,
   "id": "a44b872a-f758-4bd3-b9ea-6f431c7127cf",
   "metadata": {},
   "outputs": [
    {
     "data": {
      "text/html": [
       "<div>\n",
       "<style scoped>\n",
       "    .dataframe tbody tr th:only-of-type {\n",
       "        vertical-align: middle;\n",
       "    }\n",
       "\n",
       "    .dataframe tbody tr th {\n",
       "        vertical-align: top;\n",
       "    }\n",
       "\n",
       "    .dataframe thead th {\n",
       "        text-align: right;\n",
       "    }\n",
       "</style>\n",
       "<table border=\"1\" class=\"dataframe\">\n",
       "  <thead>\n",
       "    <tr style=\"text-align: right;\">\n",
       "      <th></th>\n",
       "      <th>exclusion_flag</th>\n",
       "      <th>unique_user_count</th>\n",
       "    </tr>\n",
       "  </thead>\n",
       "  <tbody>\n",
       "    <tr>\n",
       "      <th>0</th>\n",
       "      <td>Low-activity customer</td>\n",
       "      <td>43576</td>\n",
       "    </tr>\n",
       "    <tr>\n",
       "      <th>1</th>\n",
       "      <td>Regular-activity customer</td>\n",
       "      <td>162633</td>\n",
       "    </tr>\n",
       "  </tbody>\n",
       "</table>\n",
       "</div>"
      ],
      "text/plain": [
       "              exclusion_flag  unique_user_count\n",
       "0      Low-activity customer              43576\n",
       "1  Regular-activity customer             162633"
      ]
     },
     "execution_count": 28,
     "metadata": {},
     "output_type": "execute_result"
    }
   ],
   "source": [
    "exclusion_counts = df_combined.groupby('exclusion_flag')['user_id'].nunique().reset_index()\n",
    "exclusion_counts.columns = ['exclusion_flag', 'unique_user_count']  # Rename columns\n",
    "\n",
    "#verifiying the count of both flags\n",
    "\n",
    "exclusion_counts"
   ]
  },
  {
   "cell_type": "code",
   "execution_count": 30,
   "id": "fe74222f-a2da-40bd-a154-9c113589ebc8",
   "metadata": {},
   "outputs": [
    {
     "data": {
      "text/plain": [
       "exclusion_flag\n",
       "Regular-activity customer    30993489\n",
       "Name: count, dtype: int64"
      ]
     },
     "execution_count": 30,
     "metadata": {},
     "output_type": "execute_result"
    }
   ],
   "source": [
    "df_combined_filtered = df_combined.loc[df_combined['exclusion_flag'] != 'Low-activity customer']\n",
    "\n",
    "#verif. counts\n",
    "\n",
    "df_combined_filtered['exclusion_flag'].value_counts()"
   ]
  },
  {
   "cell_type": "code",
   "execution_count": 32,
   "id": "d74797c1-f036-4c07-8fe7-412b3463fb6a",
   "metadata": {},
   "outputs": [
    {
     "data": {
      "text/plain": [
       "162633"
      ]
     },
     "execution_count": 32,
     "metadata": {},
     "output_type": "execute_result"
    }
   ],
   "source": [
    "df_combined_filtered['user_id'].nunique()"
   ]
  },
  {
   "cell_type": "code",
   "execution_count": 34,
   "id": "0641bb74-f439-4172-b5f4-8c0ddeb233df",
   "metadata": {},
   "outputs": [],
   "source": [
    "#Exporting data \n",
    "\n",
    "df_combined_filtered.to_pickle(os.path.join(path, '02 Data','Prepared Data','Data_combined_15_11.pkl'))\n"
   ]
  },
  {
   "cell_type": "code",
   "execution_count": null,
   "id": "ded0a426-9e37-45d4-bd1c-78c07a622cb9",
   "metadata": {},
   "outputs": [],
   "source": []
  }
 ],
 "metadata": {
  "kernelspec": {
   "display_name": "Python 3 (ipykernel)",
   "language": "python",
   "name": "python3"
  },
  "language_info": {
   "codemirror_mode": {
    "name": "ipython",
    "version": 3
   },
   "file_extension": ".py",
   "mimetype": "text/x-python",
   "name": "python",
   "nbconvert_exporter": "python",
   "pygments_lexer": "ipython3",
   "version": "3.12.7"
  }
 },
 "nbformat": 4,
 "nbformat_minor": 5
}
