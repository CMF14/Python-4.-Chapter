{
 "cells": [
  {
   "cell_type": "markdown",
   "id": "1f83028f-e227-4a65-b578-28b458f3d3df",
   "metadata": {},
   "source": [
    "# Task 4.9_1\n",
    "\n",
    "\n",
    "#### 1.- Import of Data & Libraries\n",
    "#### 2.- Wrangle the data, e.g. rename columns with logical names and drop columns that don’t add anything to your analysis.\n",
    "##### 2.1 Data Verification\n",
    "#### 2.2 Renaming the Columns\n",
    "\n",
    "#### 2.3 Fundamental Data Quality and Consistency Check\n",
    "##### 2.3.1 Existing mixed data type:\n",
    "##### 2.3.2 Missing Values\n",
    "##### 2.3.3. Handling Missing values\n",
    "##### 2.3.4 Checking possible duplicate\n",
    "##### 2.3.5 Possible Data Type Inconsistancy\n",
    "#### 3.- Merge Dataframes\n",
    "#### 4.- Export Dataframe"
   ]
  },
  {
   "cell_type": "markdown",
   "id": "4ac03bec-579d-4f99-b673-6e078f8ef21c",
   "metadata": {},
   "source": [
    "## 1.- Import of Data & Libraries"
   ]
  },
  {
   "cell_type": "code",
   "execution_count": 33,
   "id": "f663efb5-56d4-46ef-a9dc-4f7906f09575",
   "metadata": {},
   "outputs": [],
   "source": [
    "import pandas as pd\n",
    "import numpy as np\n",
    "import os\n",
    "import matplotlib.pyplot as plt\n",
    "import seaborn as sns\n",
    "import scipy\n",
    "\n",
    "path = r'C:\\Users\\cmfag\\OneDrive\\Desktop\\Data Analyst Specialist\\Achievement 4\\4.3_orders_products'\n",
    "\n",
    "df_customers = pd.read_csv(os.path.join(path, '02 Data','Original Data','customers.csv'), index_col = False)\n",
    "\n",
    "df_ords_prods_merge = pd.read_pickle(os.path.join(path, '02 Data','Prepared Data', 'aggregated_ords_prods_merge.pkl'))\n"
   ]
  },
  {
   "cell_type": "markdown",
   "id": "e308e6ee-ef2a-4f4d-a18f-53c5ceea4a9b",
   "metadata": {},
   "source": [
    "# PART 1"
   ]
  },
  {
   "cell_type": "markdown",
   "id": "69789f21-54b4-4960-8ecd-33c79e813ef1",
   "metadata": {},
   "source": [
    "## 2.- Wrangle the data, e.g. rename columns with logical names and drop columns that don’t add anything to your analysis."
   ]
  },
  {
   "cell_type": "markdown",
   "id": "cd8ed0f6-2142-42c0-98dc-596a979988aa",
   "metadata": {},
   "source": [
    "### 2.1 Data Verification"
   ]
  },
  {
   "cell_type": "code",
   "execution_count": 25,
   "id": "1baad254-fe69-4bb4-9d45-b873167b7bdb",
   "metadata": {},
   "outputs": [
    {
     "data": {
      "text/html": [
       "<div>\n",
       "<style scoped>\n",
       "    .dataframe tbody tr th:only-of-type {\n",
       "        vertical-align: middle;\n",
       "    }\n",
       "\n",
       "    .dataframe tbody tr th {\n",
       "        vertical-align: top;\n",
       "    }\n",
       "\n",
       "    .dataframe thead th {\n",
       "        text-align: right;\n",
       "    }\n",
       "</style>\n",
       "<table border=\"1\" class=\"dataframe\">\n",
       "  <thead>\n",
       "    <tr style=\"text-align: right;\">\n",
       "      <th></th>\n",
       "      <th>user_id</th>\n",
       "      <th>First Name</th>\n",
       "      <th>Surnam</th>\n",
       "      <th>Gender</th>\n",
       "      <th>STATE</th>\n",
       "      <th>Age</th>\n",
       "      <th>date_joined</th>\n",
       "      <th>n_dependants</th>\n",
       "      <th>fam_status</th>\n",
       "      <th>income</th>\n",
       "    </tr>\n",
       "  </thead>\n",
       "  <tbody>\n",
       "    <tr>\n",
       "      <th>0</th>\n",
       "      <td>26711</td>\n",
       "      <td>Deborah</td>\n",
       "      <td>Esquivel</td>\n",
       "      <td>Female</td>\n",
       "      <td>Missouri</td>\n",
       "      <td>48</td>\n",
       "      <td>1/1/2017</td>\n",
       "      <td>3</td>\n",
       "      <td>married</td>\n",
       "      <td>165665</td>\n",
       "    </tr>\n",
       "    <tr>\n",
       "      <th>1</th>\n",
       "      <td>33890</td>\n",
       "      <td>Patricia</td>\n",
       "      <td>Hart</td>\n",
       "      <td>Female</td>\n",
       "      <td>New Mexico</td>\n",
       "      <td>36</td>\n",
       "      <td>1/1/2017</td>\n",
       "      <td>0</td>\n",
       "      <td>single</td>\n",
       "      <td>59285</td>\n",
       "    </tr>\n",
       "    <tr>\n",
       "      <th>2</th>\n",
       "      <td>65803</td>\n",
       "      <td>Kenneth</td>\n",
       "      <td>Farley</td>\n",
       "      <td>Male</td>\n",
       "      <td>Idaho</td>\n",
       "      <td>35</td>\n",
       "      <td>1/1/2017</td>\n",
       "      <td>2</td>\n",
       "      <td>married</td>\n",
       "      <td>99568</td>\n",
       "    </tr>\n",
       "    <tr>\n",
       "      <th>3</th>\n",
       "      <td>125935</td>\n",
       "      <td>Michelle</td>\n",
       "      <td>Hicks</td>\n",
       "      <td>Female</td>\n",
       "      <td>Iowa</td>\n",
       "      <td>40</td>\n",
       "      <td>1/1/2017</td>\n",
       "      <td>0</td>\n",
       "      <td>single</td>\n",
       "      <td>42049</td>\n",
       "    </tr>\n",
       "    <tr>\n",
       "      <th>4</th>\n",
       "      <td>130797</td>\n",
       "      <td>Ann</td>\n",
       "      <td>Gilmore</td>\n",
       "      <td>Female</td>\n",
       "      <td>Maryland</td>\n",
       "      <td>26</td>\n",
       "      <td>1/1/2017</td>\n",
       "      <td>1</td>\n",
       "      <td>married</td>\n",
       "      <td>40374</td>\n",
       "    </tr>\n",
       "  </tbody>\n",
       "</table>\n",
       "</div>"
      ],
      "text/plain": [
       "   user_id First Name    Surnam  Gender       STATE  Age date_joined  \\\n",
       "0    26711    Deborah  Esquivel  Female    Missouri   48    1/1/2017   \n",
       "1    33890   Patricia      Hart  Female  New Mexico   36    1/1/2017   \n",
       "2    65803    Kenneth    Farley    Male       Idaho   35    1/1/2017   \n",
       "3   125935   Michelle     Hicks  Female        Iowa   40    1/1/2017   \n",
       "4   130797        Ann   Gilmore  Female    Maryland   26    1/1/2017   \n",
       "\n",
       "   n_dependants fam_status  income  \n",
       "0             3    married  165665  \n",
       "1             0     single   59285  \n",
       "2             2    married   99568  \n",
       "3             0     single   42049  \n",
       "4             1    married   40374  "
      ]
     },
     "execution_count": 25,
     "metadata": {},
     "output_type": "execute_result"
    }
   ],
   "source": [
    "df_customers.head()"
   ]
  },
  {
   "cell_type": "code",
   "execution_count": 26,
   "id": "e3ec1c88-e377-4658-9275-99ca5b8b108f",
   "metadata": {},
   "outputs": [
    {
     "data": {
      "text/html": [
       "<div>\n",
       "<style scoped>\n",
       "    .dataframe tbody tr th:only-of-type {\n",
       "        vertical-align: middle;\n",
       "    }\n",
       "\n",
       "    .dataframe tbody tr th {\n",
       "        vertical-align: top;\n",
       "    }\n",
       "\n",
       "    .dataframe thead th {\n",
       "        text-align: right;\n",
       "    }\n",
       "</style>\n",
       "<table border=\"1\" class=\"dataframe\">\n",
       "  <thead>\n",
       "    <tr style=\"text-align: right;\">\n",
       "      <th></th>\n",
       "      <th>user_id</th>\n",
       "      <th>Age</th>\n",
       "      <th>n_dependants</th>\n",
       "      <th>income</th>\n",
       "    </tr>\n",
       "  </thead>\n",
       "  <tbody>\n",
       "    <tr>\n",
       "      <th>count</th>\n",
       "      <td>206209.000000</td>\n",
       "      <td>206209.000000</td>\n",
       "      <td>206209.000000</td>\n",
       "      <td>206209.000000</td>\n",
       "    </tr>\n",
       "    <tr>\n",
       "      <th>mean</th>\n",
       "      <td>103105.000000</td>\n",
       "      <td>49.501646</td>\n",
       "      <td>1.499823</td>\n",
       "      <td>94632.852548</td>\n",
       "    </tr>\n",
       "    <tr>\n",
       "      <th>std</th>\n",
       "      <td>59527.555167</td>\n",
       "      <td>18.480962</td>\n",
       "      <td>1.118433</td>\n",
       "      <td>42473.786988</td>\n",
       "    </tr>\n",
       "    <tr>\n",
       "      <th>min</th>\n",
       "      <td>1.000000</td>\n",
       "      <td>18.000000</td>\n",
       "      <td>0.000000</td>\n",
       "      <td>25903.000000</td>\n",
       "    </tr>\n",
       "    <tr>\n",
       "      <th>25%</th>\n",
       "      <td>51553.000000</td>\n",
       "      <td>33.000000</td>\n",
       "      <td>0.000000</td>\n",
       "      <td>59874.000000</td>\n",
       "    </tr>\n",
       "    <tr>\n",
       "      <th>50%</th>\n",
       "      <td>103105.000000</td>\n",
       "      <td>49.000000</td>\n",
       "      <td>1.000000</td>\n",
       "      <td>93547.000000</td>\n",
       "    </tr>\n",
       "    <tr>\n",
       "      <th>75%</th>\n",
       "      <td>154657.000000</td>\n",
       "      <td>66.000000</td>\n",
       "      <td>3.000000</td>\n",
       "      <td>124244.000000</td>\n",
       "    </tr>\n",
       "    <tr>\n",
       "      <th>max</th>\n",
       "      <td>206209.000000</td>\n",
       "      <td>81.000000</td>\n",
       "      <td>3.000000</td>\n",
       "      <td>593901.000000</td>\n",
       "    </tr>\n",
       "  </tbody>\n",
       "</table>\n",
       "</div>"
      ],
      "text/plain": [
       "             user_id            Age   n_dependants         income\n",
       "count  206209.000000  206209.000000  206209.000000  206209.000000\n",
       "mean   103105.000000      49.501646       1.499823   94632.852548\n",
       "std     59527.555167      18.480962       1.118433   42473.786988\n",
       "min         1.000000      18.000000       0.000000   25903.000000\n",
       "25%     51553.000000      33.000000       0.000000   59874.000000\n",
       "50%    103105.000000      49.000000       1.000000   93547.000000\n",
       "75%    154657.000000      66.000000       3.000000  124244.000000\n",
       "max    206209.000000      81.000000       3.000000  593901.000000"
      ]
     },
     "execution_count": 26,
     "metadata": {},
     "output_type": "execute_result"
    }
   ],
   "source": [
    "df_customers.describe()"
   ]
  },
  {
   "cell_type": "markdown",
   "id": "349ac0b6-ed72-40bb-84ce-3850fcd10801",
   "metadata": {},
   "source": [
    "### 2.2 Renaming the Columns"
   ]
  },
  {
   "cell_type": "code",
   "execution_count": 44,
   "id": "f90648fa-8fd0-475d-bfa1-61e3edb9e2d1",
   "metadata": {},
   "outputs": [
    {
     "data": {
      "text/html": [
       "<div>\n",
       "<style scoped>\n",
       "    .dataframe tbody tr th:only-of-type {\n",
       "        vertical-align: middle;\n",
       "    }\n",
       "\n",
       "    .dataframe tbody tr th {\n",
       "        vertical-align: top;\n",
       "    }\n",
       "\n",
       "    .dataframe thead th {\n",
       "        text-align: right;\n",
       "    }\n",
       "</style>\n",
       "<table border=\"1\" class=\"dataframe\">\n",
       "  <thead>\n",
       "    <tr style=\"text-align: right;\">\n",
       "      <th></th>\n",
       "      <th>user_id</th>\n",
       "      <th>first_name</th>\n",
       "      <th>last_name</th>\n",
       "      <th>Gender</th>\n",
       "      <th>state</th>\n",
       "      <th>Age</th>\n",
       "      <th>date_joined</th>\n",
       "      <th>num_dependents</th>\n",
       "      <th>family_status</th>\n",
       "      <th>income</th>\n",
       "    </tr>\n",
       "  </thead>\n",
       "  <tbody>\n",
       "    <tr>\n",
       "      <th>0</th>\n",
       "      <td>26711</td>\n",
       "      <td>Deborah</td>\n",
       "      <td>Esquivel</td>\n",
       "      <td>Female</td>\n",
       "      <td>Missouri</td>\n",
       "      <td>48</td>\n",
       "      <td>1/1/2017</td>\n",
       "      <td>3</td>\n",
       "      <td>married</td>\n",
       "      <td>165665</td>\n",
       "    </tr>\n",
       "    <tr>\n",
       "      <th>1</th>\n",
       "      <td>33890</td>\n",
       "      <td>Patricia</td>\n",
       "      <td>Hart</td>\n",
       "      <td>Female</td>\n",
       "      <td>New Mexico</td>\n",
       "      <td>36</td>\n",
       "      <td>1/1/2017</td>\n",
       "      <td>0</td>\n",
       "      <td>single</td>\n",
       "      <td>59285</td>\n",
       "    </tr>\n",
       "    <tr>\n",
       "      <th>2</th>\n",
       "      <td>65803</td>\n",
       "      <td>Kenneth</td>\n",
       "      <td>Farley</td>\n",
       "      <td>Male</td>\n",
       "      <td>Idaho</td>\n",
       "      <td>35</td>\n",
       "      <td>1/1/2017</td>\n",
       "      <td>2</td>\n",
       "      <td>married</td>\n",
       "      <td>99568</td>\n",
       "    </tr>\n",
       "    <tr>\n",
       "      <th>3</th>\n",
       "      <td>125935</td>\n",
       "      <td>Michelle</td>\n",
       "      <td>Hicks</td>\n",
       "      <td>Female</td>\n",
       "      <td>Iowa</td>\n",
       "      <td>40</td>\n",
       "      <td>1/1/2017</td>\n",
       "      <td>0</td>\n",
       "      <td>single</td>\n",
       "      <td>42049</td>\n",
       "    </tr>\n",
       "    <tr>\n",
       "      <th>4</th>\n",
       "      <td>130797</td>\n",
       "      <td>Ann</td>\n",
       "      <td>Gilmore</td>\n",
       "      <td>Female</td>\n",
       "      <td>Maryland</td>\n",
       "      <td>26</td>\n",
       "      <td>1/1/2017</td>\n",
       "      <td>1</td>\n",
       "      <td>married</td>\n",
       "      <td>40374</td>\n",
       "    </tr>\n",
       "  </tbody>\n",
       "</table>\n",
       "</div>"
      ],
      "text/plain": [
       "   user_id first_name last_name  Gender       state  Age date_joined  \\\n",
       "0    26711    Deborah  Esquivel  Female    Missouri   48    1/1/2017   \n",
       "1    33890   Patricia      Hart  Female  New Mexico   36    1/1/2017   \n",
       "2    65803    Kenneth    Farley    Male       Idaho   35    1/1/2017   \n",
       "3   125935   Michelle     Hicks  Female        Iowa   40    1/1/2017   \n",
       "4   130797        Ann   Gilmore  Female    Maryland   26    1/1/2017   \n",
       "\n",
       "   num_dependents family_status  income  \n",
       "0               3       married  165665  \n",
       "1               0        single   59285  \n",
       "2               2       married   99568  \n",
       "3               0        single   42049  \n",
       "4               1       married   40374  "
      ]
     },
     "execution_count": 44,
     "metadata": {},
     "output_type": "execute_result"
    }
   ],
   "source": [
    "df_customers.rename(columns={\n",
    "    'First Name': 'first_name',\n",
    "    'Surnam': 'last_name',\n",
    "    'STATE': 'state',\n",
    "    'GENDER': 'gender',\n",
    "    'AGE': 'age',\n",
    "    'fam_status': 'family_status',\n",
    "    'n_dependants': 'num_dependents'\n",
    "}, inplace=True)\n",
    "\n",
    "# Verify the changes\n",
    "df_customers.head()"
   ]
  },
  {
   "cell_type": "code",
   "execution_count": 50,
   "id": "0784374d-3c45-4236-bd69-0e22bb04afd1",
   "metadata": {},
   "outputs": [],
   "source": [
    "# Harmonizing column names\n",
    "df_customers.columns = df_customers.columns.str.strip().str.lower()"
   ]
  },
  {
   "cell_type": "code",
   "execution_count": 48,
   "id": "32f0a2bb-65a8-4d6e-832d-f21c222c64b6",
   "metadata": {},
   "outputs": [
    {
     "data": {
      "text/html": [
       "<div>\n",
       "<style scoped>\n",
       "    .dataframe tbody tr th:only-of-type {\n",
       "        vertical-align: middle;\n",
       "    }\n",
       "\n",
       "    .dataframe tbody tr th {\n",
       "        vertical-align: top;\n",
       "    }\n",
       "\n",
       "    .dataframe thead th {\n",
       "        text-align: right;\n",
       "    }\n",
       "</style>\n",
       "<table border=\"1\" class=\"dataframe\">\n",
       "  <thead>\n",
       "    <tr style=\"text-align: right;\">\n",
       "      <th></th>\n",
       "      <th>user_id</th>\n",
       "      <th>first_name</th>\n",
       "      <th>last_name</th>\n",
       "      <th>gender</th>\n",
       "      <th>state</th>\n",
       "      <th>age</th>\n",
       "      <th>date_joined</th>\n",
       "      <th>num_dependents</th>\n",
       "      <th>family_status</th>\n",
       "      <th>income</th>\n",
       "    </tr>\n",
       "  </thead>\n",
       "  <tbody>\n",
       "    <tr>\n",
       "      <th>0</th>\n",
       "      <td>26711</td>\n",
       "      <td>Deborah</td>\n",
       "      <td>Esquivel</td>\n",
       "      <td>Female</td>\n",
       "      <td>Missouri</td>\n",
       "      <td>48</td>\n",
       "      <td>1/1/2017</td>\n",
       "      <td>3</td>\n",
       "      <td>married</td>\n",
       "      <td>165665</td>\n",
       "    </tr>\n",
       "    <tr>\n",
       "      <th>1</th>\n",
       "      <td>33890</td>\n",
       "      <td>Patricia</td>\n",
       "      <td>Hart</td>\n",
       "      <td>Female</td>\n",
       "      <td>New Mexico</td>\n",
       "      <td>36</td>\n",
       "      <td>1/1/2017</td>\n",
       "      <td>0</td>\n",
       "      <td>single</td>\n",
       "      <td>59285</td>\n",
       "    </tr>\n",
       "    <tr>\n",
       "      <th>2</th>\n",
       "      <td>65803</td>\n",
       "      <td>Kenneth</td>\n",
       "      <td>Farley</td>\n",
       "      <td>Male</td>\n",
       "      <td>Idaho</td>\n",
       "      <td>35</td>\n",
       "      <td>1/1/2017</td>\n",
       "      <td>2</td>\n",
       "      <td>married</td>\n",
       "      <td>99568</td>\n",
       "    </tr>\n",
       "    <tr>\n",
       "      <th>3</th>\n",
       "      <td>125935</td>\n",
       "      <td>Michelle</td>\n",
       "      <td>Hicks</td>\n",
       "      <td>Female</td>\n",
       "      <td>Iowa</td>\n",
       "      <td>40</td>\n",
       "      <td>1/1/2017</td>\n",
       "      <td>0</td>\n",
       "      <td>single</td>\n",
       "      <td>42049</td>\n",
       "    </tr>\n",
       "    <tr>\n",
       "      <th>4</th>\n",
       "      <td>130797</td>\n",
       "      <td>Ann</td>\n",
       "      <td>Gilmore</td>\n",
       "      <td>Female</td>\n",
       "      <td>Maryland</td>\n",
       "      <td>26</td>\n",
       "      <td>1/1/2017</td>\n",
       "      <td>1</td>\n",
       "      <td>married</td>\n",
       "      <td>40374</td>\n",
       "    </tr>\n",
       "  </tbody>\n",
       "</table>\n",
       "</div>"
      ],
      "text/plain": [
       "   user_id first_name last_name  gender       state  age date_joined  \\\n",
       "0    26711    Deborah  Esquivel  Female    Missouri   48    1/1/2017   \n",
       "1    33890   Patricia      Hart  Female  New Mexico   36    1/1/2017   \n",
       "2    65803    Kenneth    Farley    Male       Idaho   35    1/1/2017   \n",
       "3   125935   Michelle     Hicks  Female        Iowa   40    1/1/2017   \n",
       "4   130797        Ann   Gilmore  Female    Maryland   26    1/1/2017   \n",
       "\n",
       "   num_dependents family_status  income  \n",
       "0               3       married  165665  \n",
       "1               0        single   59285  \n",
       "2               2       married   99568  \n",
       "3               0        single   42049  \n",
       "4               1       married   40374  "
      ]
     },
     "execution_count": 48,
     "metadata": {},
     "output_type": "execute_result"
    }
   ],
   "source": [
    "df_customers.head()"
   ]
  },
  {
   "cell_type": "markdown",
   "id": "0e8bba81-286a-45d8-ad48-484f8782c680",
   "metadata": {},
   "source": [
    "#### Comments: at this first stage i would leave all the columns of the df.\n",
    "\n",
    "#### * Regarding task: verify typo in Part1 Point nr.: 4 = ename columns with illogical names *"
   ]
  },
  {
   "cell_type": "markdown",
   "id": "f780ebc8-c0ee-47e8-8102-cfd772c743d1",
   "metadata": {},
   "source": [
    "## 2.3  Fundamental Data Quality and Consistency Check"
   ]
  },
  {
   "cell_type": "markdown",
   "id": "81491326-e986-45fc-ad83-2a88a3cb1b25",
   "metadata": {},
   "source": [
    "### 2.3.1 Existing mixed data type:"
   ]
  },
  {
   "cell_type": "code",
   "execution_count": 58,
   "id": "e11c48e8-b22e-4619-84de-8a0a1949bf87",
   "metadata": {},
   "outputs": [
    {
     "name": "stdout",
     "output_type": "stream",
     "text": [
      "Column first_name has mixed data types.\n"
     ]
    }
   ],
   "source": [
    "for column in df_customers.columns:\n",
    "    mixed_data = df_customers[column].apply(type).nunique() > 1\n",
    "    if mixed_data:\n",
    "        print(f\"Column {column} has mixed data types.\")"
   ]
  },
  {
   "cell_type": "markdown",
   "id": "3fc7345b-6173-447d-b7c5-d6dde46eb39f",
   "metadata": {},
   "source": [
    "### 2.3.2 Missing Values"
   ]
  },
  {
   "cell_type": "code",
   "execution_count": 65,
   "id": "2b1da4b4-cba6-4ab7-9266-e75a979fe88b",
   "metadata": {},
   "outputs": [
    {
     "name": "stdout",
     "output_type": "stream",
     "text": [
      "user_id               0\n",
      "first_name        11259\n",
      "last_name             0\n",
      "gender                0\n",
      "state                 0\n",
      "age                   0\n",
      "date_joined           0\n",
      "num_dependents        0\n",
      "family_status         0\n",
      "income                0\n",
      "dtype: int64\n",
      "user_id           0.000000\n",
      "first_name        5.459994\n",
      "last_name         0.000000\n",
      "gender            0.000000\n",
      "state             0.000000\n",
      "age               0.000000\n",
      "date_joined       0.000000\n",
      "num_dependents    0.000000\n",
      "family_status     0.000000\n",
      "income            0.000000\n",
      "dtype: float64\n"
     ]
    }
   ],
   "source": [
    "#are there missing values in each column?\n",
    "missing_values = df_customers.isnull().sum()\n",
    "print(missing_values)\n",
    "\n",
    "# What is the % of missing values?\n",
    "missing_percentage = (df_customers.isnull().sum() / len(df_customers)) * 100\n",
    "print(missing_percentage)"
   ]
  },
  {
   "cell_type": "markdown",
   "id": "3b51abe1-56eb-4f40-ac63-d22f9eb3a2a6",
   "metadata": {},
   "source": [
    "### 2.3.3. Handling Missing values "
   ]
  },
  {
   "cell_type": "code",
   "execution_count": 73,
   "id": "8148540a-ab49-4a41-a6ca-120cb5feb162",
   "metadata": {},
   "outputs": [],
   "source": [
    "# The first_name column has 11259 (5.46%) of missing values. \n",
    "# Replaced by with 'Unknown'\n",
    "\n",
    "df_customers['first_name'] = df_customers['first_name'].fillna('Unknown')\n",
    "\n",
    "# Replaced by with 'Unknown'"
   ]
  },
  {
   "cell_type": "code",
   "execution_count": 79,
   "id": "455f6136-8c79-4dfd-9947-939afc2ec625",
   "metadata": {},
   "outputs": [
    {
     "name": "stdout",
     "output_type": "stream",
     "text": [
      "user_id           0\n",
      "first_name        0\n",
      "last_name         0\n",
      "gender            0\n",
      "state             0\n",
      "age               0\n",
      "date_joined       0\n",
      "num_dependents    0\n",
      "family_status     0\n",
      "income            0\n",
      "dtype: int64\n"
     ]
    }
   ],
   "source": [
    "# is there anyother missing value?\n",
    "\n",
    "missing_values_after_impute = df_customers.isnull().sum()\n",
    "print(missing_values_after_impute)"
   ]
  },
  {
   "cell_type": "markdown",
   "id": "dc8d04fc-517f-4142-89fc-e5f48c172ead",
   "metadata": {},
   "source": [
    "### 2.3.4 Checking possible duplicate"
   ]
  },
  {
   "cell_type": "code",
   "execution_count": 83,
   "id": "d8301e69-d4f3-4816-8b1b-7078fcda7c3e",
   "metadata": {},
   "outputs": [
    {
     "name": "stdout",
     "output_type": "stream",
     "text": [
      "Empty DataFrame\n",
      "Columns: [user_id, first_name, last_name, gender, state, age, date_joined, num_dependents, family_status, income]\n",
      "Index: []\n"
     ]
    }
   ],
   "source": [
    "duplicate_rows = df_customers[df_customers.duplicated()]\n",
    "print(duplicate_rows)"
   ]
  },
  {
   "cell_type": "markdown",
   "id": "07ce75b6-e92e-4fe6-9a58-d227cd5b44d0",
   "metadata": {},
   "source": [
    "### 2.3.5 Possible Data Type Inconsistancy"
   ]
  },
  {
   "cell_type": "code",
   "execution_count": 88,
   "id": "af1b82c6-a9cb-4e9a-9b70-70802d42407b",
   "metadata": {},
   "outputs": [
    {
     "name": "stdout",
     "output_type": "stream",
     "text": [
      "user_id            int64\n",
      "first_name        object\n",
      "last_name         object\n",
      "gender            object\n",
      "state             object\n",
      "age                int64\n",
      "date_joined       object\n",
      "num_dependents     int64\n",
      "family_status     object\n",
      "income             int64\n",
      "dtype: object\n",
      "order_id                     int64\n",
      "user_id                      int64\n",
      "eval_set                    object\n",
      "order_number                 int64\n",
      "order_dow                    int64\n",
      "order_hour_of_day            int64\n",
      "days_since_prior_order     float64\n",
      "product_id                   int64\n",
      "add_to_cart_order            int64\n",
      "reordered                    int64\n",
      "Unnamed: 0                 float64\n",
      "product_name                object\n",
      "aisle_id                   float64\n",
      "department_id              float64\n",
      "prices                     float64\n",
      "merge_check               category\n",
      "day_label                   object\n",
      "busiest_day                 object\n",
      "busiest_period_of_day       object\n",
      "max_order                    int64\n",
      "loyalty_flag                object\n",
      "average_spend              float64\n",
      "spender_flag                object\n",
      "Customer_frequency         float64\n",
      "frequency_flag              object\n",
      "dtype: object\n"
     ]
    }
   ],
   "source": [
    "print(df_customers.dtypes)\n",
    "print(df_ords_prods_merge.dtypes)"
   ]
  },
  {
   "cell_type": "markdown",
   "id": "abf40459-7645-4d26-a89b-be8b819ca714",
   "metadata": {},
   "source": [
    "## 3.- Merge Dataframes "
   ]
  },
  {
   "cell_type": "code",
   "execution_count": 93,
   "id": "4e721706-8677-4bd9-9edd-4a090080b2ca",
   "metadata": {},
   "outputs": [],
   "source": [
    "df_combined = pd.merge(df_ords_prods_merge, df_customers, on='user_id', how='left')"
   ]
  },
  {
   "cell_type": "code",
   "execution_count": 97,
   "id": "ee913578-09a1-4f9b-84f1-5e411e78addf",
   "metadata": {},
   "outputs": [
    {
     "data": {
      "text/plain": [
       "(32435059, 34)"
      ]
     },
     "execution_count": 97,
     "metadata": {},
     "output_type": "execute_result"
    }
   ],
   "source": [
    "#review of merged df\n",
    "\n",
    "df_combined.shape"
   ]
  },
  {
   "cell_type": "code",
   "execution_count": 99,
   "id": "bc58eb57-947d-43a3-b5f7-f1af100046ad",
   "metadata": {},
   "outputs": [
    {
     "name": "stdout",
     "output_type": "stream",
     "text": [
      "Number of duplicate rows in combined DataFrame: 0\n"
     ]
    }
   ],
   "source": [
    "# Verifiying duplicates in the combined df\n",
    "duplicates_combined = df_combined.duplicated().sum()\n",
    "print(f'Number of duplicate rows in combined DataFrame: {duplicates_combined}')"
   ]
  },
  {
   "cell_type": "code",
   "execution_count": 106,
   "id": "8b386a99-0754-4a5d-a31d-cf6856ea2c43",
   "metadata": {},
   "outputs": [
    {
     "name": "stdout",
     "output_type": "stream",
     "text": [
      "Missing values in combined DataFrame:\n"
     ]
    }
   ],
   "source": [
    "# Check for missing values in the combined df\n",
    "missing_values_combined = df_combined.isnull().sum()\n",
    "print(\"Missing values in combined DataFrame:\")"
   ]
  },
  {
   "cell_type": "code",
   "execution_count": 102,
   "id": "9703b027-de31-4ff9-850d-93da9645cccf",
   "metadata": {},
   "outputs": [],
   "source": [
    "# Missing values in combined DataFrame:"
   ]
  },
  {
   "cell_type": "code",
   "execution_count": 103,
   "id": "0eb6a16d-7a66-4d49-906b-d9fa87a2b16a",
   "metadata": {},
   "outputs": [],
   "source": [
    "df_ords_prods_merge = df_ords_prods_merge.drop(columns=['Unnamed: 0'])"
   ]
  },
  {
   "cell_type": "code",
   "execution_count": 107,
   "id": "1507c62a-80eb-4717-be42-81e96badf94b",
   "metadata": {},
   "outputs": [
    {
     "name": "stdout",
     "output_type": "stream",
     "text": [
      "order_id                        0\n",
      "user_id                         0\n",
      "eval_set                        0\n",
      "order_number                    0\n",
      "order_dow                       0\n",
      "order_hour_of_day               0\n",
      "days_since_prior_order    2078102\n",
      "product_id                      0\n",
      "add_to_cart_order               0\n",
      "reordered                       0\n",
      "Unnamed: 0                  30200\n",
      "product_name                30200\n",
      "aisle_id                    30200\n",
      "department_id               30200\n",
      "prices                      30200\n",
      "merge_check                     0\n",
      "day_label                       0\n",
      "busiest_day                     0\n",
      "busiest_period_of_day           0\n",
      "max_order                       0\n",
      "loyalty_flag                    0\n",
      "average_spend                   0\n",
      "spender_flag                    0\n",
      "Customer_frequency              0\n",
      "frequency_flag                  0\n",
      "first_name                      0\n",
      "last_name                       0\n",
      "gender                          0\n",
      "state                           0\n",
      "age                             0\n",
      "date_joined                     0\n",
      "num_dependents                  0\n",
      "family_status                   0\n",
      "income                          0\n",
      "dtype: int64\n"
     ]
    }
   ],
   "source": [
    "print(missing_values_combined)"
   ]
  },
  {
   "cell_type": "markdown",
   "id": "654c6f74-345c-424b-bf94-3bba14349c95",
   "metadata": {},
   "source": [
    "## 4.- Export Dataframe"
   ]
  },
  {
   "cell_type": "code",
   "execution_count": 112,
   "id": "f5482a46-e123-48fa-9bd1-e93d32d602c1",
   "metadata": {},
   "outputs": [],
   "source": [
    "df_combined.to_pickle(os.path.join(path, '02 Data','Prepared Data','Data_combined_13_11.pkl'))"
   ]
  }
 ],
 "metadata": {
  "kernelspec": {
   "display_name": "Python 3 (ipykernel)",
   "language": "python",
   "name": "python3"
  },
  "language_info": {
   "codemirror_mode": {
    "name": "ipython",
    "version": 3
   },
   "file_extension": ".py",
   "mimetype": "text/x-python",
   "name": "python",
   "nbconvert_exporter": "python",
   "pygments_lexer": "ipython3",
   "version": "3.12.7"
  }
 },
 "nbformat": 4,
 "nbformat_minor": 5
}
