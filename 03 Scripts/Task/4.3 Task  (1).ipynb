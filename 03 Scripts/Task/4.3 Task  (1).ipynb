{
 "cells": [
  {
   "cell_type": "markdown",
   "id": "fce42d43-364f-4cab-b0d5-b84a599b45e0",
   "metadata": {},
   "source": [
    "Importing Libraries "
   ]
  },
  {
   "cell_type": "code",
   "execution_count": 4,
   "id": "914149ba-e47e-4ef5-95b2-1bc689f51f46",
   "metadata": {},
   "outputs": [],
   "source": [
    "import pandas as pd\n",
    "import numpy as np\n",
    "import os"
   ]
  },
  {
   "cell_type": "markdown",
   "id": "f0a58909-b77c-4af8-9a53-ec7cc535f7be",
   "metadata": {},
   "source": [
    "Upload Orders and Print the first 5 rows of your dataframe"
   ]
  },
  {
   "cell_type": "code",
   "execution_count": 12,
   "id": "1ca5944e-532a-4721-97bc-67713da61bcd",
   "metadata": {},
   "outputs": [],
   "source": [
    "path = r'"
   ]
  },
  {
   "cell_type": "code",
   "execution_count": 14,
   "id": "d3ce08ee-fa63-4115-b707-3306de3495ed",
   "metadata": {},
   "outputs": [],
   "source": [
    "df = pd.read_csv(os.path.join(path, 'orders.csv'), index_col = False)"
   ]
  },
  {
   "cell_type": "code",
   "execution_count": 16,
   "id": "bf20abf8-00fd-47ef-898d-32b663309436",
   "metadata": {},
   "outputs": [
    {
     "data": {
      "text/plain": [
       "Index(['order_id', 'user_id', 'eval_set', 'order_number', 'order_dow',\n",
       "       'order_hour_of_day', 'days_since_prior_order'],\n",
       "      dtype='object')"
      ]
     },
     "execution_count": 16,
     "metadata": {},
     "output_type": "execute_result"
    }
   ],
   "source": [
    "df.columns"
   ]
  },
  {
   "cell_type": "code",
   "execution_count": 22,
   "id": "e40fa45a-151c-474a-9a98-f2c23a332550",
   "metadata": {},
   "outputs": [],
   "source": [
    "var_list = ['order_id', 'user_id', 'order_number', 'order_dow',\n",
    "       'order_hour_of_day', 'days_since_prior_order']"
   ]
  },
  {
   "cell_type": "code",
   "execution_count": 26,
   "id": "ae820b23-7ba1-4d56-8dea-255a9449de6b",
   "metadata": {},
   "outputs": [],
   "source": [
    "df = pd.read_csv(os.path.join(path, 'orders.csv'), usecols = var_list)"
   ]
  },
  {
   "cell_type": "code",
   "execution_count": 30,
   "id": "09d2ea8a-d78d-40e7-b5be-7dd2995d38c5",
   "metadata": {},
   "outputs": [
    {
     "data": {
      "text/html": [
       "<div>\n",
       "<style scoped>\n",
       "    .dataframe tbody tr th:only-of-type {\n",
       "        vertical-align: middle;\n",
       "    }\n",
       "\n",
       "    .dataframe tbody tr th {\n",
       "        vertical-align: top;\n",
       "    }\n",
       "\n",
       "    .dataframe thead th {\n",
       "        text-align: right;\n",
       "    }\n",
       "</style>\n",
       "<table border=\"1\" class=\"dataframe\">\n",
       "  <thead>\n",
       "    <tr style=\"text-align: right;\">\n",
       "      <th></th>\n",
       "      <th>order_id</th>\n",
       "      <th>user_id</th>\n",
       "      <th>order_number</th>\n",
       "      <th>order_dow</th>\n",
       "      <th>order_hour_of_day</th>\n",
       "      <th>days_since_prior_order</th>\n",
       "    </tr>\n",
       "  </thead>\n",
       "  <tbody>\n",
       "    <tr>\n",
       "      <th>0</th>\n",
       "      <td>2539329</td>\n",
       "      <td>1</td>\n",
       "      <td>1</td>\n",
       "      <td>2</td>\n",
       "      <td>8</td>\n",
       "      <td>NaN</td>\n",
       "    </tr>\n",
       "    <tr>\n",
       "      <th>1</th>\n",
       "      <td>2398795</td>\n",
       "      <td>1</td>\n",
       "      <td>2</td>\n",
       "      <td>3</td>\n",
       "      <td>7</td>\n",
       "      <td>15.0</td>\n",
       "    </tr>\n",
       "    <tr>\n",
       "      <th>2</th>\n",
       "      <td>473747</td>\n",
       "      <td>1</td>\n",
       "      <td>3</td>\n",
       "      <td>3</td>\n",
       "      <td>12</td>\n",
       "      <td>21.0</td>\n",
       "    </tr>\n",
       "    <tr>\n",
       "      <th>3</th>\n",
       "      <td>2254736</td>\n",
       "      <td>1</td>\n",
       "      <td>4</td>\n",
       "      <td>4</td>\n",
       "      <td>7</td>\n",
       "      <td>29.0</td>\n",
       "    </tr>\n",
       "    <tr>\n",
       "      <th>4</th>\n",
       "      <td>431534</td>\n",
       "      <td>1</td>\n",
       "      <td>5</td>\n",
       "      <td>4</td>\n",
       "      <td>15</td>\n",
       "      <td>28.0</td>\n",
       "    </tr>\n",
       "  </tbody>\n",
       "</table>\n",
       "</div>"
      ],
      "text/plain": [
       "   order_id  user_id  order_number  order_dow  order_hour_of_day  \\\n",
       "0   2539329        1             1          2                  8   \n",
       "1   2398795        1             2          3                  7   \n",
       "2    473747        1             3          3                 12   \n",
       "3   2254736        1             4          4                  7   \n",
       "4    431534        1             5          4                 15   \n",
       "\n",
       "   days_since_prior_order  \n",
       "0                     NaN  \n",
       "1                    15.0  \n",
       "2                    21.0  \n",
       "3                    29.0  \n",
       "4                    28.0  "
      ]
     },
     "execution_count": 30,
     "metadata": {},
     "output_type": "execute_result"
    }
   ],
   "source": [
    "df.head()"
   ]
  },
  {
   "cell_type": "markdown",
   "id": "154da6ca-4b1e-4671-b88d-bde3f6f26b15",
   "metadata": {},
   "source": [
    "Upload products and Print the first 20 rows and the last 35 rows of the df_prods dataframe."
   ]
  },
  {
   "cell_type": "code",
   "execution_count": 52,
   "id": "85058d4b-9dec-416e-8e03-72b05d6ccfff",
   "metadata": {},
   "outputs": [],
   "source": [
    "df_prod = pd.read_csv(os.path.join(path, 'products.csv'), index_col = False)"
   ]
  },
  {
   "cell_type": "code",
   "execution_count": 54,
   "id": "fb67df77-1244-460a-9658-a31d4d36ce60",
   "metadata": {},
   "outputs": [
    {
     "name": "stdout",
     "output_type": "stream",
     "text": [
      "    product_id                                       product_name  aisle_id  \\\n",
      "0            1                         Chocolate Sandwich Cookies        61   \n",
      "1            2                                   All-Seasons Salt       104   \n",
      "2            3               Robust Golden Unsweetened Oolong Tea        94   \n",
      "3            4  Smart Ones Classic Favorites Mini Rigatoni Wit...        38   \n",
      "4            5                          Green Chile Anytime Sauce         5   \n",
      "5            6                                       Dry Nose Oil        11   \n",
      "6            7                     Pure Coconut Water With Orange        98   \n",
      "7            8                  Cut Russet Potatoes Steam N' Mash       116   \n",
      "8            9                  Light Strawberry Blueberry Yogurt       120   \n",
      "9           10     Sparkling Orange Juice & Prickly Pear Beverage       115   \n",
      "10          11                                  Peach Mango Juice        31   \n",
      "11          12                         Chocolate Fudge Layer Cake       119   \n",
      "12          13                                  Saline Nasal Mist        11   \n",
      "13          14                     Fresh Scent Dishwasher Cleaner        74   \n",
      "14          15                           Overnight Diapers Size 6        56   \n",
      "15          16                      Mint Chocolate Flavored Syrup       103   \n",
      "16          17                                  Rendered Duck Fat        35   \n",
      "17          18                Pizza for One Suprema  Frozen Pizza        79   \n",
      "18          19   Gluten Free Quinoa Three Cheese & Mushroom Blend        63   \n",
      "19          20     Pomegranate Cranberry & Aloe Vera Enrich Drink        98   \n",
      "\n",
      "    department_id  prices  \n",
      "0              19     5.8  \n",
      "1              13     9.3  \n",
      "2               7     4.5  \n",
      "3               1    10.5  \n",
      "4              13     4.3  \n",
      "5              11     2.6  \n",
      "6               7     4.4  \n",
      "7               1     1.1  \n",
      "8              16     7.0  \n",
      "9               7     8.4  \n",
      "10              7     2.8  \n",
      "11              1     9.4  \n",
      "12             11     1.1  \n",
      "13             17     6.5  \n",
      "14             18    11.2  \n",
      "15             19     5.2  \n",
      "16             12    17.1  \n",
      "17              1    10.6  \n",
      "18              9    12.0  \n",
      "19              7     6.0  \n"
     ]
    }
   ],
   "source": [
    "print(df_prod.head(20))"
   ]
  },
  {
   "cell_type": "code",
   "execution_count": 56,
   "id": "5c14dbef-6c69-4c66-b021-27629effabdd",
   "metadata": {},
   "outputs": [
    {
     "name": "stdout",
     "output_type": "stream",
     "text": [
      "       product_id                                       product_name  \\\n",
      "49658       49654                   Teriyaki Sauce, Sesame, Original   \n",
      "49659       49655                                        Apple Cider   \n",
      "49660       49656                         Masada Kosher Pocket Bread   \n",
      "49661       49657                                  Cabernet Tomatoes   \n",
      "49662       49658                         Brie with Herbs Foil Wedge   \n",
      "49663       49659                            Organic Creamed Coconut   \n",
      "49664       49660                        Professionals Sleek Shampoo   \n",
      "49665       49661                                              Porto   \n",
      "49666       49662                       Bacon Cheddar Pretzel Pieces   \n",
      "49667       49663  Ultra Protein Power Crunch Peanut Butter N' Ho...   \n",
      "49668       49664                     Lemon Cayenne Drinking Vinegar   \n",
      "49669       49665      Super Dark Coconut Ash & Banana Chocolate Bar   \n",
      "49670       49666                      Ginger Snaps Snacking Cookies   \n",
      "49671       49667           Enchilada with Spanish Rice & Beans Meal   \n",
      "49672       49668                     Apple Cinnamon Scented Candles   \n",
      "49673       49669                                   K Cup Dark Blend   \n",
      "49674       49670                                Beef Summer Sausage   \n",
      "49675       49671                               Milk Chocolate Drops   \n",
      "49676       49672                             Cafe Mocha K-Cup Packs   \n",
      "49677       49673              Stone Baked Multi Grain Artisan Rolls   \n",
      "49678       49674            Frozen Greek Yogurt Bars Chocolate Chip   \n",
      "49679       49675                Cinnamon Dolce Keurig Brewed K Cups   \n",
      "49680       49676                             Ultra Red Energy Drink   \n",
      "49681       49677                    Thick & Chunky Sloppy Joe Sauce   \n",
      "49682       49678                    Large Chicken & Cheese Taquitos   \n",
      "49683       49679                            Famous Chocolate Wafers   \n",
      "49684       49680                 All Natural Creamy Caesar Dressing   \n",
      "49685       49681            Spaghetti with Meatballs and Sauce Meal   \n",
      "49686       49682                                 California Limeade   \n",
      "49687       49683                                     Cucumber Kirby   \n",
      "49688       49684          Vodka, Triple Distilled, Twist of Vanilla   \n",
      "49689       49685                 En Croute Roast Hazelnut Cranberry   \n",
      "49690       49686                                   Artisan Baguette   \n",
      "49691       49687         Smartblend Healthy Metabolism Dry Cat Food   \n",
      "49692       49688                             Fresh Foaming Cleanser   \n",
      "\n",
      "       aisle_id  department_id  prices  \n",
      "49658         5             13     4.0  \n",
      "49659        98              7    10.7  \n",
      "49660       128              3     7.1  \n",
      "49661        83              4     8.3  \n",
      "49662         2             16     3.9  \n",
      "49663        17             13     3.1  \n",
      "49664        22             11     6.7  \n",
      "49665       134              5     8.2  \n",
      "49666       107             19     3.6  \n",
      "49667        57             14    10.2  \n",
      "49668       100             21    13.7  \n",
      "49669        45             19     6.9  \n",
      "49670        61             19     5.2  \n",
      "49671        38              1     6.6  \n",
      "49672       101             17     5.6  \n",
      "49673       100             21     4.7  \n",
      "49674       106             12    19.2  \n",
      "49675        45             19     3.0  \n",
      "49676        26              7     6.5  \n",
      "49677       129              1     5.6  \n",
      "49678        37              1    11.1  \n",
      "49679        26              7    14.0  \n",
      "49680        64              7    14.5  \n",
      "49681        59             15     8.9  \n",
      "49682       129              1     3.4  \n",
      "49683        61             19     6.0  \n",
      "49684        89             13     4.9  \n",
      "49685        38              1     6.9  \n",
      "49686        98              7     4.3  \n",
      "49687        83              4    13.2  \n",
      "49688       124              5     5.3  \n",
      "49689        42              1     3.1  \n",
      "49690       112              3     7.8  \n",
      "49691        41              8     4.7  \n",
      "49692        73             11    13.5  \n"
     ]
    }
   ],
   "source": [
    "print(df_prod.tail(35))"
   ]
  },
  {
   "cell_type": "markdown",
   "id": "abddac54-e2aa-4f81-bd96-93406c3541aa",
   "metadata": {},
   "source": [
    "Print the names of the columns in the df_prods dataframe."
   ]
  },
  {
   "cell_type": "code",
   "execution_count": 58,
   "id": "7aa5f22d-b8aa-449c-83a3-e605f0c33bc1",
   "metadata": {},
   "outputs": [
    {
     "data": {
      "text/plain": [
       "Index(['product_id', 'product_name', 'aisle_id', 'department_id', 'prices'], dtype='object')"
      ]
     },
     "execution_count": 58,
     "metadata": {},
     "output_type": "execute_result"
    }
   ],
   "source": [
    "df_prod.columns"
   ]
  },
  {
   "cell_type": "markdown",
   "id": "be63a201-9a6a-4a87-ad04-f140f5ecf9b5",
   "metadata": {},
   "source": [
    "Print the number of rows and columns in the df_prods dataframe."
   ]
  },
  {
   "cell_type": "code",
   "execution_count": 62,
   "id": "87d00515-e309-41bb-b1a3-587575711201",
   "metadata": {},
   "outputs": [
    {
     "data": {
      "text/plain": [
       "(49693, 5)"
      ]
     },
     "execution_count": 62,
     "metadata": {},
     "output_type": "execute_result"
    }
   ],
   "source": [
    "df_prod.shape"
   ]
  },
  {
   "cell_type": "markdown",
   "id": "b65fc2f4-5891-42f2-915f-c3a4ae172c7c",
   "metadata": {},
   "source": [
    "Questions Nr. 11"
   ]
  },
  {
   "cell_type": "code",
   "execution_count": 68,
   "id": "c5906fbc-9c48-4c6d-a903-72e00ebc02f8",
   "metadata": {},
   "outputs": [
    {
     "data": {
      "text/html": [
       "<div>\n",
       "<style scoped>\n",
       "    .dataframe tbody tr th:only-of-type {\n",
       "        vertical-align: middle;\n",
       "    }\n",
       "\n",
       "    .dataframe tbody tr th {\n",
       "        vertical-align: top;\n",
       "    }\n",
       "\n",
       "    .dataframe thead th {\n",
       "        text-align: right;\n",
       "    }\n",
       "</style>\n",
       "<table border=\"1\" class=\"dataframe\">\n",
       "  <thead>\n",
       "    <tr style=\"text-align: right;\">\n",
       "      <th></th>\n",
       "      <th>product_id</th>\n",
       "      <th>aisle_id</th>\n",
       "      <th>department_id</th>\n",
       "      <th>prices</th>\n",
       "    </tr>\n",
       "  </thead>\n",
       "  <tbody>\n",
       "    <tr>\n",
       "      <th>count</th>\n",
       "      <td>49693.000000</td>\n",
       "      <td>49693.000000</td>\n",
       "      <td>49693.000000</td>\n",
       "      <td>49693.000000</td>\n",
       "    </tr>\n",
       "    <tr>\n",
       "      <th>mean</th>\n",
       "      <td>24844.345139</td>\n",
       "      <td>67.770249</td>\n",
       "      <td>11.728433</td>\n",
       "      <td>9.994136</td>\n",
       "    </tr>\n",
       "    <tr>\n",
       "      <th>std</th>\n",
       "      <td>14343.717401</td>\n",
       "      <td>38.316774</td>\n",
       "      <td>5.850282</td>\n",
       "      <td>453.519686</td>\n",
       "    </tr>\n",
       "    <tr>\n",
       "      <th>min</th>\n",
       "      <td>1.000000</td>\n",
       "      <td>1.000000</td>\n",
       "      <td>1.000000</td>\n",
       "      <td>1.000000</td>\n",
       "    </tr>\n",
       "    <tr>\n",
       "      <th>25%</th>\n",
       "      <td>12423.000000</td>\n",
       "      <td>35.000000</td>\n",
       "      <td>7.000000</td>\n",
       "      <td>4.100000</td>\n",
       "    </tr>\n",
       "    <tr>\n",
       "      <th>50%</th>\n",
       "      <td>24845.000000</td>\n",
       "      <td>69.000000</td>\n",
       "      <td>13.000000</td>\n",
       "      <td>7.100000</td>\n",
       "    </tr>\n",
       "    <tr>\n",
       "      <th>75%</th>\n",
       "      <td>37265.000000</td>\n",
       "      <td>100.000000</td>\n",
       "      <td>17.000000</td>\n",
       "      <td>11.200000</td>\n",
       "    </tr>\n",
       "    <tr>\n",
       "      <th>max</th>\n",
       "      <td>49688.000000</td>\n",
       "      <td>134.000000</td>\n",
       "      <td>21.000000</td>\n",
       "      <td>99999.000000</td>\n",
       "    </tr>\n",
       "  </tbody>\n",
       "</table>\n",
       "</div>"
      ],
      "text/plain": [
       "         product_id      aisle_id  department_id        prices\n",
       "count  49693.000000  49693.000000   49693.000000  49693.000000\n",
       "mean   24844.345139     67.770249      11.728433      9.994136\n",
       "std    14343.717401     38.316774       5.850282    453.519686\n",
       "min        1.000000      1.000000       1.000000      1.000000\n",
       "25%    12423.000000     35.000000       7.000000      4.100000\n",
       "50%    24845.000000     69.000000      13.000000      7.100000\n",
       "75%    37265.000000    100.000000      17.000000     11.200000\n",
       "max    49688.000000    134.000000      21.000000  99999.000000"
      ]
     },
     "execution_count": 68,
     "metadata": {},
     "output_type": "execute_result"
    }
   ],
   "source": [
    "df_prod.describe()"
   ]
  },
  {
   "cell_type": "markdown",
   "id": "5efa6aff-4301-4ab6-b756-0615c63d6515",
   "metadata": {},
   "source": [
    "11.1 - What si the maximum value of aisle_id? Answer: 134.000000"
   ]
  },
  {
   "cell_type": "code",
   "execution_count": 78,
   "id": "553aa33c-d233-4133-a3e8-c7d54abd815e",
   "metadata": {},
   "outputs": [
    {
     "data": {
      "text/plain": [
       "product_id         int64\n",
       "product_name      object\n",
       "aisle_id           int64\n",
       "department_id      int64\n",
       "prices           float64\n",
       "dtype: object"
      ]
     },
     "execution_count": 78,
     "metadata": {},
     "output_type": "execute_result"
    }
   ],
   "source": [
    "df_prod.dtypes"
   ]
  },
  {
   "cell_type": "markdown",
   "id": "bc4f4078-8a74-443e-b09c-3a0f54f72241",
   "metadata": {},
   "source": [
    "11.2 what is the data type of the department_id column? Answer: int64"
   ]
  },
  {
   "cell_type": "code",
   "execution_count": null,
   "id": "f3c3e59f-f36a-453d-bbed-2a868c2c243b",
   "metadata": {},
   "outputs": [],
   "source": []
  }
 ],
 "metadata": {
  "kernelspec": {
   "display_name": "Python 3 (ipykernel)",
   "language": "python",
   "name": "python3"
  },
  "language_info": {
   "codemirror_mode": {
    "name": "ipython",
    "version": 3
   },
   "file_extension": ".py",
   "mimetype": "text/x-python",
   "name": "python",
   "nbconvert_exporter": "python",
   "pygments_lexer": "ipython3",
   "version": "3.12.7"
  }
 },
 "nbformat": 4,
 "nbformat_minor": 5
}
