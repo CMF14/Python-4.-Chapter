{
 "cells": [
  {
   "cell_type": "markdown",
   "id": "168be327-e747-4b87-bce7-19bbf2c85ee0",
   "metadata": {},
   "source": [
    "# Content and Task 4.7 - Deriving New Variables"
   ]
  },
  {
   "cell_type": "markdown",
   "id": "ef11ae86-7f53-4c01-b637-36da55721988",
   "metadata": {},
   "source": [
    "Index:\n",
    "\n",
    "##### 1.  Importing Data Frames and loading libraries \n",
    "##### 2.  If-Statements \n",
    "##### 2.1. If-Statements with User-Defined Functions\n",
    "##### 2.2. If-Statements with the loc() Function\n",
    "##### 2.3. If-Statements with For-Loops\n",
    "\n",
    "##### 3.   Task 4.7\n",
    "##### 3.1. Updating the lables\n",
    "##### 3.2. Label the busiest periods of the day as \"Most orders,\" \"Average orders,\" and \"Fewest orders\n",
    "#####  3.3. Downloading data in to pickel\n"
   ]
  },
  {
   "cell_type": "markdown",
   "id": "b03bb6d3-d9aa-42c1-b9eb-bd1138aa3a1a",
   "metadata": {},
   "source": [
    "# 1.- Importing Data Frames and loading libraries"
   ]
  },
  {
   "cell_type": "code",
   "execution_count": 4,
   "id": "08ee04c0-5e62-4482-8224-bf10d3c08676",
   "metadata": {},
   "outputs": [],
   "source": [
    "## Importing Data: \n",
    "\n",
    "import pandas as pd\n",
    "import numpy as np\n",
    "import os\n",
    "\n",
    "path = r'C:\\Users\\cmfag\\OneDrive\\Desktop\\Data Analyst Specialist\\Achievement 4\\4.3_orders_products\\02 Data\\Prepared Data'"
   ]
  },
  {
   "cell_type": "code",
   "execution_count": 6,
   "id": "87a613aa-94e5-4a5f-ac62-ee25a3a95d3f",
   "metadata": {},
   "outputs": [
    {
     "ename": "NameError",
     "evalue": "name 'pd' is not defined",
     "output_type": "error",
     "traceback": [
      "\u001b[1;31m---------------------------------------------------------------------------\u001b[0m",
      "\u001b[1;31mNameError\u001b[0m                                 Traceback (most recent call last)",
      "Cell \u001b[1;32mIn[6], line 4\u001b[0m\n\u001b[0;32m      1\u001b[0m \u001b[38;5;66;03m#importing df_ords_prods_merge\u001b[39;00m\n\u001b[0;32m      2\u001b[0m \u001b[38;5;66;03m# Verificar la data cargada!!\u001b[39;00m\n\u001b[1;32m----> 4\u001b[0m df_ords_prods_merge \u001b[38;5;241m=\u001b[39m pd\u001b[38;5;241m.\u001b[39mread_pickle(os\u001b[38;5;241m.\u001b[39mpath\u001b[38;5;241m.\u001b[39mjoin(path, \u001b[38;5;124m'\u001b[39m\u001b[38;5;124mords_prods_merge.pkl\u001b[39m\u001b[38;5;124m'\u001b[39m))\n\u001b[0;32m      6\u001b[0m df_ords_prods_merge\u001b[38;5;241m.\u001b[39mhead()\n",
      "\u001b[1;31mNameError\u001b[0m: name 'pd' is not defined"
     ]
    }
   ],
   "source": [
    "#importing df_ords_prods_merge\n",
    "# Verificar la data cargada!!\n",
    "\n",
    "df_ords_prods_merge = pd.read_pickle(os.path.join(path, 'ords_prods_merge.pkl'))\n",
    "\n",
    "df_ords_prods_merge.head()"
   ]
  },
  {
   "cell_type": "markdown",
   "id": "42d1bf02-0808-4df2-b3b4-73f3474557a2",
   "metadata": {},
   "source": [
    "# 2.- If-Statements"
   ]
  },
  {
   "cell_type": "markdown",
   "id": "94724c15-2e44-46de-99ae-43faec404fea",
   "metadata": {},
   "source": [
    "###  2.1 If-Statements with User-Defined Functions"
   ]
  },
  {
   "cell_type": "code",
   "execution_count": 8,
   "id": "5dabf211-108b-4ac2-8f27-697bf2cb99e0",
   "metadata": {},
   "outputs": [
    {
     "data": {
      "text/plain": [
       "(1000000, 16)"
      ]
     },
     "execution_count": 8,
     "metadata": {},
     "output_type": "execute_result"
    }
   ],
   "source": [
    "df = df_ords_prods_merge[:1000000]\n",
    "#este subset incluye: everything from the beginning of the dataframe up to 1000000, es decir 1000000 rows.\n",
    "df.shape"
   ]
  },
  {
   "cell_type": "code",
   "execution_count": 9,
   "id": "d12dc806-ddd6-443a-90d3-48867025bdc3",
   "metadata": {},
   "outputs": [],
   "source": [
    "def price_label(row):\n",
    "\n",
    "  if row['prices'] <= 5:\n",
    "    return 'Low-range product'\n",
    "  elif (row['prices'] > 5) and (row['prices'] <= 15):\n",
    "    return 'Mid-range product'\n",
    "  elif row['prices'] > 15:\n",
    "    return 'High range'\n",
    "  else: return 'Not enough data'\n",
    "\n",
    "\n",
    "# esto quiere decir: \n",
    "\n",
    "#Rango de Bajo Costo (Low-range product):\n",
    "   #Si el precio (prices) es menor o igual a 5, el producto se clasifica como \"Low-range product\".\n",
    "   # Rango de Precio Medio (Mid-range product):\n",
    "   #Si el precio está entre 5 y 15 (incluyendo 15), el producto se clasifica como \"Mid-range product\".\n",
    "   # Rango de Alto Costo (High range):\n",
    "   # Si el precio es mayor que 15, el producto se clasifica como \"High range\".\n",
    "   # Datos Insuficientes (Not enough data):\n",
    "   # Si el precio no cumple con ninguno de estos criterios, se etiqueta como \"Not enough data\" \n",
    "   #(esto es más un caso de cobertura para posibles datos faltantes o errores)."
   ]
  },
  {
   "cell_type": "code",
   "execution_count": 10,
   "id": "8cd1aa41-0622-4e2b-b4f3-6b2464b58d50",
   "metadata": {},
   "outputs": [
    {
     "name": "stderr",
     "output_type": "stream",
     "text": [
      "C:\\Users\\cmfag\\AppData\\Local\\Temp\\ipykernel_12380\\2848743372.py:1: SettingWithCopyWarning: \n",
      "A value is trying to be set on a copy of a slice from a DataFrame.\n",
      "Try using .loc[row_indexer,col_indexer] = value instead\n",
      "\n",
      "See the caveats in the documentation: https://pandas.pydata.org/pandas-docs/stable/user_guide/indexing.html#returning-a-view-versus-a-copy\n",
      "  df['price_range'] = df.apply(price_label, axis=1)\n"
     ]
    }
   ],
   "source": [
    "df['price_range'] = df.apply(price_label, axis=1)"
   ]
  },
  {
   "cell_type": "code",
   "execution_count": 11,
   "id": "3b4d585e-a936-45c7-9706-c7f004387815",
   "metadata": {},
   "outputs": [
    {
     "data": {
      "text/plain": [
       "price_range\n",
       "Mid-range product    672525\n",
       "Low-range product    314109\n",
       "High range            12413\n",
       "Not enough data         953\n",
       "Name: count, dtype: int64"
      ]
     },
     "execution_count": 11,
     "metadata": {},
     "output_type": "execute_result"
    }
   ],
   "source": [
    "df['price_range'].value_counts(dropna = False)"
   ]
  },
  {
   "cell_type": "code",
   "execution_count": 12,
   "id": "d04ca066-20b8-4941-89d6-f76e451949ec",
   "metadata": {},
   "outputs": [
    {
     "data": {
      "text/plain": [
       "99999.0"
      ]
     },
     "execution_count": 12,
     "metadata": {},
     "output_type": "execute_result"
    }
   ],
   "source": [
    "df['prices'].max()\n",
    "\n"
   ]
  },
  {
   "cell_type": "markdown",
   "id": "b12f9882-693f-4719-9813-5e16a1217e3a",
   "metadata": {},
   "source": [
    "### !!!!!  Preguntar al tutor - en el content, me sale que no hay ningun producto en la categoria high-range, pero a mi me salen 12413 precios. \n",
    "\n",
    "## COMPARAR! Antes del If-Statements with the loc() Function sección 4.7\n",
    "\n",
    "This function returns the maximum value within the “prices” column, which, as you’ll see here, is 14.8"
   ]
  },
  {
   "cell_type": "markdown",
   "id": "faabea45-938e-4595-945e-7f6edad15eaf",
   "metadata": {},
   "source": [
    "## 2.2 If-Statements with the loc() Function\n",
    "\n",
    "#### - esta opción te permite hacer las misma etiqueta/segmentación en toda la base de dato, sin necesidad de generar un subset para evitar\n",
    "####   problemas de memoria."
   ]
  },
  {
   "cell_type": "code",
   "execution_count": 15,
   "id": "99688850-069d-4a55-90ec-2ac0a73adcca",
   "metadata": {},
   "outputs": [
    {
     "name": "stderr",
     "output_type": "stream",
     "text": [
      "C:\\Users\\cmfag\\AppData\\Local\\Temp\\ipykernel_12380\\1169838859.py:1: SettingWithCopyWarning: \n",
      "A value is trying to be set on a copy of a slice from a DataFrame.\n",
      "Try using .loc[row_indexer,col_indexer] = value instead\n",
      "\n",
      "See the caveats in the documentation: https://pandas.pydata.org/pandas-docs/stable/user_guide/indexing.html#returning-a-view-versus-a-copy\n",
      "  df.loc[df['prices'] > 15, 'price_range_loc'] = 'High-range product'\n"
     ]
    }
   ],
   "source": [
    "df.loc[df['prices'] > 15, 'price_range_loc'] = 'High-range product'"
   ]
  },
  {
   "cell_type": "code",
   "execution_count": 16,
   "id": "c43db57d-f960-454d-86b2-6c285dae42de",
   "metadata": {},
   "outputs": [],
   "source": [
    "df.loc[(df['prices'] <= 15) & (df['prices'] > 5), 'price_range_loc'] = 'Mid-range product'"
   ]
  },
  {
   "cell_type": "code",
   "execution_count": 17,
   "id": "c66ff779-6390-4af3-9f14-7eab9dec6e63",
   "metadata": {},
   "outputs": [],
   "source": [
    "df.loc[df['prices'] <= 5, 'price_range_loc'] = 'Low-range product'"
   ]
  },
  {
   "cell_type": "code",
   "execution_count": 18,
   "id": "ed23bb59-6f80-49bd-a667-63727917bc59",
   "metadata": {},
   "outputs": [
    {
     "data": {
      "text/plain": [
       "price_range\n",
       "Mid-range product    672525\n",
       "Low-range product    314109\n",
       "High range            12413\n",
       "Not enough data         953\n",
       "Name: count, dtype: int64"
      ]
     },
     "execution_count": 18,
     "metadata": {},
     "output_type": "execute_result"
    }
   ],
   "source": [
    "df['price_range'].value_counts(dropna = False)"
   ]
  },
  {
   "cell_type": "markdown",
   "id": "8a116640-bf40-4f21-9ee4-bcf47af4891a",
   "metadata": {},
   "source": [
    "## 2.3 If-Statements with For-Loops\n",
    "\n"
   ]
  },
  {
   "cell_type": "code",
   "execution_count": 20,
   "id": "4c2ed451-a91b-4b0a-8c97-b7607285eb2f",
   "metadata": {},
   "outputs": [
    {
     "name": "stdout",
     "output_type": "stream",
     "text": [
      "Index(['order_id', 'user_id', 'eval_set', 'order_number', 'order_dow',\n",
      "       'order_hour_of_day', 'days_since_prior_order', 'product_id',\n",
      "       'add_to_cart_order', 'reordered', 'Unnamed: 0', 'product_name',\n",
      "       'aisle_id', 'department_id', 'prices', 'merge_check'],\n",
      "      dtype='object')\n"
     ]
    }
   ],
   "source": [
    "# Check column names in df_ords_prods_merge\n",
    "print(df_ords_prods_merge.columns)\n"
   ]
  },
  {
   "cell_type": "code",
   "execution_count": null,
   "id": "cad1ea64-16c4-46ab-a488-6ee675a86bfa",
   "metadata": {},
   "outputs": [],
   "source": [
    "# Check the result\n",
    "df_ords_prods_merge[['order_hour_of_day', 'busiest_period_of_day']].head()"
   ]
  },
  {
   "cell_type": "code",
   "execution_count": 22,
   "id": "a7775732-7c75-4566-8d4e-17f9bb983f4c",
   "metadata": {},
   "outputs": [],
   "source": [
    "df_ords_prods_merge['busiest_day'] = result"
   ]
  },
  {
   "cell_type": "code",
   "execution_count": 23,
   "id": "14dcf989-99b1-4385-8619-46d78e896536",
   "metadata": {},
   "outputs": [
    {
     "data": {
      "text/plain": [
       "busiest_day\n",
       "Regularly busy    22437988\n",
       "Busiest day        6209808\n",
       "Least busy         3787263\n",
       "Name: count, dtype: int64"
      ]
     },
     "execution_count": 23,
     "metadata": {},
     "output_type": "execute_result"
    }
   ],
   "source": [
    "df_ords_prods_merge['busiest_day'].value_counts(dropna = False)"
   ]
  },
  {
   "cell_type": "code",
   "execution_count": 24,
   "id": "40b6a549-97b3-4784-9dc4-4ecb88d4e0b1",
   "metadata": {},
   "outputs": [
    {
     "data": {
      "text/html": [
       "<div>\n",
       "<style scoped>\n",
       "    .dataframe tbody tr th:only-of-type {\n",
       "        vertical-align: middle;\n",
       "    }\n",
       "\n",
       "    .dataframe tbody tr th {\n",
       "        vertical-align: top;\n",
       "    }\n",
       "\n",
       "    .dataframe thead th {\n",
       "        text-align: right;\n",
       "    }\n",
       "</style>\n",
       "<table border=\"1\" class=\"dataframe\">\n",
       "  <thead>\n",
       "    <tr style=\"text-align: right;\">\n",
       "      <th></th>\n",
       "      <th>order_id</th>\n",
       "      <th>user_id</th>\n",
       "      <th>eval_set</th>\n",
       "      <th>order_number</th>\n",
       "      <th>order_dow</th>\n",
       "      <th>order_hour_of_day</th>\n",
       "      <th>days_since_prior_order</th>\n",
       "      <th>product_id</th>\n",
       "      <th>add_to_cart_order</th>\n",
       "      <th>reordered</th>\n",
       "      <th>Unnamed: 0</th>\n",
       "      <th>product_name</th>\n",
       "      <th>aisle_id</th>\n",
       "      <th>department_id</th>\n",
       "      <th>prices</th>\n",
       "      <th>merge_check</th>\n",
       "      <th>day_label</th>\n",
       "      <th>busiest_day</th>\n",
       "    </tr>\n",
       "  </thead>\n",
       "  <tbody>\n",
       "    <tr>\n",
       "      <th>0</th>\n",
       "      <td>2539329</td>\n",
       "      <td>1</td>\n",
       "      <td>prior</td>\n",
       "      <td>1</td>\n",
       "      <td>2</td>\n",
       "      <td>8</td>\n",
       "      <td>NaN</td>\n",
       "      <td>196</td>\n",
       "      <td>1</td>\n",
       "      <td>0</td>\n",
       "      <td>195.0</td>\n",
       "      <td>Soda</td>\n",
       "      <td>77.0</td>\n",
       "      <td>7.0</td>\n",
       "      <td>9.0</td>\n",
       "      <td>both</td>\n",
       "      <td>Regularly busy</td>\n",
       "      <td>Regularly busy</td>\n",
       "    </tr>\n",
       "    <tr>\n",
       "      <th>1</th>\n",
       "      <td>2539329</td>\n",
       "      <td>1</td>\n",
       "      <td>prior</td>\n",
       "      <td>1</td>\n",
       "      <td>2</td>\n",
       "      <td>8</td>\n",
       "      <td>NaN</td>\n",
       "      <td>14084</td>\n",
       "      <td>2</td>\n",
       "      <td>0</td>\n",
       "      <td>14084.0</td>\n",
       "      <td>Organic Unsweetened Vanilla Almond Milk</td>\n",
       "      <td>91.0</td>\n",
       "      <td>16.0</td>\n",
       "      <td>12.5</td>\n",
       "      <td>both</td>\n",
       "      <td>Regularly busy</td>\n",
       "      <td>Regularly busy</td>\n",
       "    </tr>\n",
       "    <tr>\n",
       "      <th>2</th>\n",
       "      <td>2539329</td>\n",
       "      <td>1</td>\n",
       "      <td>prior</td>\n",
       "      <td>1</td>\n",
       "      <td>2</td>\n",
       "      <td>8</td>\n",
       "      <td>NaN</td>\n",
       "      <td>12427</td>\n",
       "      <td>3</td>\n",
       "      <td>0</td>\n",
       "      <td>12427.0</td>\n",
       "      <td>Original Beef Jerky</td>\n",
       "      <td>23.0</td>\n",
       "      <td>19.0</td>\n",
       "      <td>4.4</td>\n",
       "      <td>both</td>\n",
       "      <td>Regularly busy</td>\n",
       "      <td>Regularly busy</td>\n",
       "    </tr>\n",
       "    <tr>\n",
       "      <th>3</th>\n",
       "      <td>2539329</td>\n",
       "      <td>1</td>\n",
       "      <td>prior</td>\n",
       "      <td>1</td>\n",
       "      <td>2</td>\n",
       "      <td>8</td>\n",
       "      <td>NaN</td>\n",
       "      <td>26088</td>\n",
       "      <td>4</td>\n",
       "      <td>0</td>\n",
       "      <td>26089.0</td>\n",
       "      <td>Aged White Cheddar Popcorn</td>\n",
       "      <td>23.0</td>\n",
       "      <td>19.0</td>\n",
       "      <td>4.7</td>\n",
       "      <td>both</td>\n",
       "      <td>Regularly busy</td>\n",
       "      <td>Regularly busy</td>\n",
       "    </tr>\n",
       "    <tr>\n",
       "      <th>4</th>\n",
       "      <td>2539329</td>\n",
       "      <td>1</td>\n",
       "      <td>prior</td>\n",
       "      <td>1</td>\n",
       "      <td>2</td>\n",
       "      <td>8</td>\n",
       "      <td>NaN</td>\n",
       "      <td>26405</td>\n",
       "      <td>5</td>\n",
       "      <td>0</td>\n",
       "      <td>26406.0</td>\n",
       "      <td>XL Pick-A-Size Paper Towel Rolls</td>\n",
       "      <td>54.0</td>\n",
       "      <td>17.0</td>\n",
       "      <td>1.0</td>\n",
       "      <td>both</td>\n",
       "      <td>Regularly busy</td>\n",
       "      <td>Regularly busy</td>\n",
       "    </tr>\n",
       "  </tbody>\n",
       "</table>\n",
       "</div>"
      ],
      "text/plain": [
       "   order_id  user_id eval_set  order_number  order_dow  order_hour_of_day  \\\n",
       "0   2539329        1    prior             1          2                  8   \n",
       "1   2539329        1    prior             1          2                  8   \n",
       "2   2539329        1    prior             1          2                  8   \n",
       "3   2539329        1    prior             1          2                  8   \n",
       "4   2539329        1    prior             1          2                  8   \n",
       "\n",
       "   days_since_prior_order  product_id  add_to_cart_order  reordered  \\\n",
       "0                     NaN         196                  1          0   \n",
       "1                     NaN       14084                  2          0   \n",
       "2                     NaN       12427                  3          0   \n",
       "3                     NaN       26088                  4          0   \n",
       "4                     NaN       26405                  5          0   \n",
       "\n",
       "   Unnamed: 0                             product_name  aisle_id  \\\n",
       "0       195.0                                     Soda      77.0   \n",
       "1     14084.0  Organic Unsweetened Vanilla Almond Milk      91.0   \n",
       "2     12427.0                      Original Beef Jerky      23.0   \n",
       "3     26089.0               Aged White Cheddar Popcorn      23.0   \n",
       "4     26406.0         XL Pick-A-Size Paper Towel Rolls      54.0   \n",
       "\n",
       "   department_id  prices merge_check       day_label     busiest_day  \n",
       "0            7.0     9.0        both  Regularly busy  Regularly busy  \n",
       "1           16.0    12.5        both  Regularly busy  Regularly busy  \n",
       "2           19.0     4.4        both  Regularly busy  Regularly busy  \n",
       "3           19.0     4.7        both  Regularly busy  Regularly busy  \n",
       "4           17.0     1.0        both  Regularly busy  Regularly busy  "
      ]
     },
     "execution_count": 24,
     "metadata": {},
     "output_type": "execute_result"
    }
   ],
   "source": [
    "df_ords_prods_merge.head()"
   ]
  },
  {
   "cell_type": "code",
   "execution_count": 25,
   "id": "0beadbd5-c316-419d-b011-a1f65e8d631e",
   "metadata": {},
   "outputs": [
    {
     "data": {
      "text/html": [
       "<div>\n",
       "<style scoped>\n",
       "    .dataframe tbody tr th:only-of-type {\n",
       "        vertical-align: middle;\n",
       "    }\n",
       "\n",
       "    .dataframe tbody tr th {\n",
       "        vertical-align: top;\n",
       "    }\n",
       "\n",
       "    .dataframe thead th {\n",
       "        text-align: right;\n",
       "    }\n",
       "</style>\n",
       "<table border=\"1\" class=\"dataframe\">\n",
       "  <thead>\n",
       "    <tr style=\"text-align: right;\">\n",
       "      <th></th>\n",
       "      <th>order_id</th>\n",
       "      <th>user_id</th>\n",
       "      <th>eval_set</th>\n",
       "      <th>order_number</th>\n",
       "      <th>order_dow</th>\n",
       "      <th>order_hour_of_day</th>\n",
       "      <th>days_since_prior_order</th>\n",
       "      <th>product_id</th>\n",
       "      <th>add_to_cart_order</th>\n",
       "      <th>reordered</th>\n",
       "      <th>Unnamed: 0</th>\n",
       "      <th>product_name</th>\n",
       "      <th>aisle_id</th>\n",
       "      <th>department_id</th>\n",
       "      <th>prices</th>\n",
       "      <th>merge_check</th>\n",
       "      <th>price_range</th>\n",
       "      <th>price_range_loc</th>\n",
       "    </tr>\n",
       "  </thead>\n",
       "  <tbody>\n",
       "    <tr>\n",
       "      <th>0</th>\n",
       "      <td>2539329</td>\n",
       "      <td>1</td>\n",
       "      <td>prior</td>\n",
       "      <td>1</td>\n",
       "      <td>2</td>\n",
       "      <td>8</td>\n",
       "      <td>NaN</td>\n",
       "      <td>196</td>\n",
       "      <td>1</td>\n",
       "      <td>0</td>\n",
       "      <td>195.0</td>\n",
       "      <td>Soda</td>\n",
       "      <td>77.0</td>\n",
       "      <td>7.0</td>\n",
       "      <td>9.0</td>\n",
       "      <td>both</td>\n",
       "      <td>Mid-range product</td>\n",
       "      <td>Mid-range product</td>\n",
       "    </tr>\n",
       "    <tr>\n",
       "      <th>1</th>\n",
       "      <td>2539329</td>\n",
       "      <td>1</td>\n",
       "      <td>prior</td>\n",
       "      <td>1</td>\n",
       "      <td>2</td>\n",
       "      <td>8</td>\n",
       "      <td>NaN</td>\n",
       "      <td>14084</td>\n",
       "      <td>2</td>\n",
       "      <td>0</td>\n",
       "      <td>14084.0</td>\n",
       "      <td>Organic Unsweetened Vanilla Almond Milk</td>\n",
       "      <td>91.0</td>\n",
       "      <td>16.0</td>\n",
       "      <td>12.5</td>\n",
       "      <td>both</td>\n",
       "      <td>Mid-range product</td>\n",
       "      <td>Mid-range product</td>\n",
       "    </tr>\n",
       "    <tr>\n",
       "      <th>2</th>\n",
       "      <td>2539329</td>\n",
       "      <td>1</td>\n",
       "      <td>prior</td>\n",
       "      <td>1</td>\n",
       "      <td>2</td>\n",
       "      <td>8</td>\n",
       "      <td>NaN</td>\n",
       "      <td>12427</td>\n",
       "      <td>3</td>\n",
       "      <td>0</td>\n",
       "      <td>12427.0</td>\n",
       "      <td>Original Beef Jerky</td>\n",
       "      <td>23.0</td>\n",
       "      <td>19.0</td>\n",
       "      <td>4.4</td>\n",
       "      <td>both</td>\n",
       "      <td>Low-range product</td>\n",
       "      <td>Low-range product</td>\n",
       "    </tr>\n",
       "    <tr>\n",
       "      <th>3</th>\n",
       "      <td>2539329</td>\n",
       "      <td>1</td>\n",
       "      <td>prior</td>\n",
       "      <td>1</td>\n",
       "      <td>2</td>\n",
       "      <td>8</td>\n",
       "      <td>NaN</td>\n",
       "      <td>26088</td>\n",
       "      <td>4</td>\n",
       "      <td>0</td>\n",
       "      <td>26089.0</td>\n",
       "      <td>Aged White Cheddar Popcorn</td>\n",
       "      <td>23.0</td>\n",
       "      <td>19.0</td>\n",
       "      <td>4.7</td>\n",
       "      <td>both</td>\n",
       "      <td>Low-range product</td>\n",
       "      <td>Low-range product</td>\n",
       "    </tr>\n",
       "    <tr>\n",
       "      <th>4</th>\n",
       "      <td>2539329</td>\n",
       "      <td>1</td>\n",
       "      <td>prior</td>\n",
       "      <td>1</td>\n",
       "      <td>2</td>\n",
       "      <td>8</td>\n",
       "      <td>NaN</td>\n",
       "      <td>26405</td>\n",
       "      <td>5</td>\n",
       "      <td>0</td>\n",
       "      <td>26406.0</td>\n",
       "      <td>XL Pick-A-Size Paper Towel Rolls</td>\n",
       "      <td>54.0</td>\n",
       "      <td>17.0</td>\n",
       "      <td>1.0</td>\n",
       "      <td>both</td>\n",
       "      <td>Low-range product</td>\n",
       "      <td>Low-range product</td>\n",
       "    </tr>\n",
       "  </tbody>\n",
       "</table>\n",
       "</div>"
      ],
      "text/plain": [
       "   order_id  user_id eval_set  order_number  order_dow  order_hour_of_day  \\\n",
       "0   2539329        1    prior             1          2                  8   \n",
       "1   2539329        1    prior             1          2                  8   \n",
       "2   2539329        1    prior             1          2                  8   \n",
       "3   2539329        1    prior             1          2                  8   \n",
       "4   2539329        1    prior             1          2                  8   \n",
       "\n",
       "   days_since_prior_order  product_id  add_to_cart_order  reordered  \\\n",
       "0                     NaN         196                  1          0   \n",
       "1                     NaN       14084                  2          0   \n",
       "2                     NaN       12427                  3          0   \n",
       "3                     NaN       26088                  4          0   \n",
       "4                     NaN       26405                  5          0   \n",
       "\n",
       "   Unnamed: 0                             product_name  aisle_id  \\\n",
       "0       195.0                                     Soda      77.0   \n",
       "1     14084.0  Organic Unsweetened Vanilla Almond Milk      91.0   \n",
       "2     12427.0                      Original Beef Jerky      23.0   \n",
       "3     26089.0               Aged White Cheddar Popcorn      23.0   \n",
       "4     26406.0         XL Pick-A-Size Paper Towel Rolls      54.0   \n",
       "\n",
       "   department_id  prices merge_check        price_range    price_range_loc  \n",
       "0            7.0     9.0        both  Mid-range product  Mid-range product  \n",
       "1           16.0    12.5        both  Mid-range product  Mid-range product  \n",
       "2           19.0     4.4        both  Low-range product  Low-range product  \n",
       "3           19.0     4.7        both  Low-range product  Low-range product  \n",
       "4           17.0     1.0        both  Low-range product  Low-range product  "
      ]
     },
     "execution_count": 25,
     "metadata": {},
     "output_type": "execute_result"
    }
   ],
   "source": [
    "df.head()"
   ]
  },
  {
   "cell_type": "markdown",
   "id": "f0d450cc-0d42-45b2-826a-8c564bae91f0",
   "metadata": {},
   "source": [
    "### 3.- Task 4.7\n"
   ]
  },
  {
   "cell_type": "markdown",
   "id": "926fc095-7b38-434e-b414-d764b199064e",
   "metadata": {},
   "source": [
    "### 3.1.- Updating the lables.\n",
    "\n",
    "#### Creating a new column:\n",
    "#### “Busiest day” to become “Busiest days” (plural) -  two busiest days of the week as opposed to the single busiest d\n",
    "#### two slowest days\n",
    "#### Warning: i will use df (1000 rows) since my laptop is quite slow and df_ords_prods_merge doesnt generates any reaction. "
   ]
  },
  {
   "cell_type": "code",
   "execution_count": 51,
   "id": "6f862f7a-3adc-4a34-8625-be1b11d4b58d",
   "metadata": {},
   "outputs": [
    {
     "data": {
      "text/plain": [
       "order_dow\n",
       "0    189677\n",
       "1    169911\n",
       "6    139623\n",
       "5    133974\n",
       "2    130568\n",
       "3    118352\n",
       "4    117895\n",
       "Name: count, dtype: int64"
      ]
     },
     "execution_count": 51,
     "metadata": {},
     "output_type": "execute_result"
    }
   ],
   "source": [
    "# Step 1: Calculate frequency of orders by day\n",
    "\n",
    "day_counts = df['order_dow'].value_counts().sort_values(ascending=False)\n",
    "\n",
    "day_counts"
   ]
  },
  {
   "cell_type": "code",
   "execution_count": 53,
   "id": "340f18ca-5724-4da2-9199-915d521719d5",
   "metadata": {},
   "outputs": [],
   "source": [
    "# Identify the two busiest days (highest frequency)\n",
    "busiest_days = day_counts.index[:2].tolist()\n",
    "\n",
    "# Identify the two slowest days (lowest frequency)\n",
    "slowest_days = day_counts.index[-2:].tolist()"
   ]
  },
  {
   "cell_type": "code",
   "execution_count": 55,
   "id": "7bb0534b-d152-4834-aa6d-b27a0ba4f552",
   "metadata": {},
   "outputs": [
    {
     "data": {
      "text/plain": [
       "[0, 1]"
      ]
     },
     "execution_count": 55,
     "metadata": {},
     "output_type": "execute_result"
    }
   ],
   "source": [
    "busiest_days"
   ]
  },
  {
   "cell_type": "code",
   "execution_count": 57,
   "id": "8a06eeb1-5f4a-4fb1-a01e-4acaadbcb1c9",
   "metadata": {},
   "outputs": [
    {
     "data": {
      "text/plain": [
       "[3, 4]"
      ]
     },
     "execution_count": 57,
     "metadata": {},
     "output_type": "execute_result"
    }
   ],
   "source": [
    "slowest_days"
   ]
  },
  {
   "cell_type": "code",
   "execution_count": 60,
   "id": "30d04516-ae0c-48f3-9e7f-389b6633281d",
   "metadata": {},
   "outputs": [],
   "source": [
    "# Step 2: Create a new column with the updated labels\n",
    "\n",
    "\n",
    "def label_day(row):\n",
    "    if row['order_dow'] in busiest_days:\n",
    "        return \"Busiest days\"\n",
    "    elif row['order_dow'] in slowest_days:\n",
    "        return \"Slowest days\"\n",
    "    else:\n",
    "        return \"Regularly busy\""
   ]
  },
  {
   "cell_type": "code",
   "execution_count": 62,
   "id": "5675246c-ec95-4931-b931-13f045d550b6",
   "metadata": {},
   "outputs": [
    {
     "name": "stderr",
     "output_type": "stream",
     "text": [
      "C:\\Users\\cmfag\\AppData\\Local\\Temp\\ipykernel_12380\\4233308509.py:1: SettingWithCopyWarning: \n",
      "A value is trying to be set on a copy of a slice from a DataFrame.\n",
      "Try using .loc[row_indexer,col_indexer] = value instead\n",
      "\n",
      "See the caveats in the documentation: https://pandas.pydata.org/pandas-docs/stable/user_guide/indexing.html#returning-a-view-versus-a-copy\n",
      "  df['day_activity_label'] = df.apply(label_day, axis=1)\n"
     ]
    },
    {
     "data": {
      "text/html": [
       "<div>\n",
       "<style scoped>\n",
       "    .dataframe tbody tr th:only-of-type {\n",
       "        vertical-align: middle;\n",
       "    }\n",
       "\n",
       "    .dataframe tbody tr th {\n",
       "        vertical-align: top;\n",
       "    }\n",
       "\n",
       "    .dataframe thead th {\n",
       "        text-align: right;\n",
       "    }\n",
       "</style>\n",
       "<table border=\"1\" class=\"dataframe\">\n",
       "  <thead>\n",
       "    <tr style=\"text-align: right;\">\n",
       "      <th></th>\n",
       "      <th>order_id</th>\n",
       "      <th>user_id</th>\n",
       "      <th>eval_set</th>\n",
       "      <th>order_number</th>\n",
       "      <th>order_dow</th>\n",
       "      <th>order_hour_of_day</th>\n",
       "      <th>days_since_prior_order</th>\n",
       "      <th>product_id</th>\n",
       "      <th>add_to_cart_order</th>\n",
       "      <th>reordered</th>\n",
       "      <th>Unnamed: 0</th>\n",
       "      <th>product_name</th>\n",
       "      <th>aisle_id</th>\n",
       "      <th>department_id</th>\n",
       "      <th>prices</th>\n",
       "      <th>merge_check</th>\n",
       "      <th>price_range</th>\n",
       "      <th>price_range_loc</th>\n",
       "      <th>day_activity_label</th>\n",
       "    </tr>\n",
       "  </thead>\n",
       "  <tbody>\n",
       "    <tr>\n",
       "      <th>0</th>\n",
       "      <td>2539329</td>\n",
       "      <td>1</td>\n",
       "      <td>prior</td>\n",
       "      <td>1</td>\n",
       "      <td>2</td>\n",
       "      <td>8</td>\n",
       "      <td>NaN</td>\n",
       "      <td>196</td>\n",
       "      <td>1</td>\n",
       "      <td>0</td>\n",
       "      <td>195.0</td>\n",
       "      <td>Soda</td>\n",
       "      <td>77.0</td>\n",
       "      <td>7.0</td>\n",
       "      <td>9.0</td>\n",
       "      <td>both</td>\n",
       "      <td>Mid-range product</td>\n",
       "      <td>Mid-range product</td>\n",
       "      <td>Regularly busy</td>\n",
       "    </tr>\n",
       "    <tr>\n",
       "      <th>1</th>\n",
       "      <td>2539329</td>\n",
       "      <td>1</td>\n",
       "      <td>prior</td>\n",
       "      <td>1</td>\n",
       "      <td>2</td>\n",
       "      <td>8</td>\n",
       "      <td>NaN</td>\n",
       "      <td>14084</td>\n",
       "      <td>2</td>\n",
       "      <td>0</td>\n",
       "      <td>14084.0</td>\n",
       "      <td>Organic Unsweetened Vanilla Almond Milk</td>\n",
       "      <td>91.0</td>\n",
       "      <td>16.0</td>\n",
       "      <td>12.5</td>\n",
       "      <td>both</td>\n",
       "      <td>Mid-range product</td>\n",
       "      <td>Mid-range product</td>\n",
       "      <td>Regularly busy</td>\n",
       "    </tr>\n",
       "    <tr>\n",
       "      <th>2</th>\n",
       "      <td>2539329</td>\n",
       "      <td>1</td>\n",
       "      <td>prior</td>\n",
       "      <td>1</td>\n",
       "      <td>2</td>\n",
       "      <td>8</td>\n",
       "      <td>NaN</td>\n",
       "      <td>12427</td>\n",
       "      <td>3</td>\n",
       "      <td>0</td>\n",
       "      <td>12427.0</td>\n",
       "      <td>Original Beef Jerky</td>\n",
       "      <td>23.0</td>\n",
       "      <td>19.0</td>\n",
       "      <td>4.4</td>\n",
       "      <td>both</td>\n",
       "      <td>Low-range product</td>\n",
       "      <td>Low-range product</td>\n",
       "      <td>Regularly busy</td>\n",
       "    </tr>\n",
       "    <tr>\n",
       "      <th>3</th>\n",
       "      <td>2539329</td>\n",
       "      <td>1</td>\n",
       "      <td>prior</td>\n",
       "      <td>1</td>\n",
       "      <td>2</td>\n",
       "      <td>8</td>\n",
       "      <td>NaN</td>\n",
       "      <td>26088</td>\n",
       "      <td>4</td>\n",
       "      <td>0</td>\n",
       "      <td>26089.0</td>\n",
       "      <td>Aged White Cheddar Popcorn</td>\n",
       "      <td>23.0</td>\n",
       "      <td>19.0</td>\n",
       "      <td>4.7</td>\n",
       "      <td>both</td>\n",
       "      <td>Low-range product</td>\n",
       "      <td>Low-range product</td>\n",
       "      <td>Regularly busy</td>\n",
       "    </tr>\n",
       "    <tr>\n",
       "      <th>4</th>\n",
       "      <td>2539329</td>\n",
       "      <td>1</td>\n",
       "      <td>prior</td>\n",
       "      <td>1</td>\n",
       "      <td>2</td>\n",
       "      <td>8</td>\n",
       "      <td>NaN</td>\n",
       "      <td>26405</td>\n",
       "      <td>5</td>\n",
       "      <td>0</td>\n",
       "      <td>26406.0</td>\n",
       "      <td>XL Pick-A-Size Paper Towel Rolls</td>\n",
       "      <td>54.0</td>\n",
       "      <td>17.0</td>\n",
       "      <td>1.0</td>\n",
       "      <td>both</td>\n",
       "      <td>Low-range product</td>\n",
       "      <td>Low-range product</td>\n",
       "      <td>Regularly busy</td>\n",
       "    </tr>\n",
       "  </tbody>\n",
       "</table>\n",
       "</div>"
      ],
      "text/plain": [
       "   order_id  user_id eval_set  order_number  order_dow  order_hour_of_day  \\\n",
       "0   2539329        1    prior             1          2                  8   \n",
       "1   2539329        1    prior             1          2                  8   \n",
       "2   2539329        1    prior             1          2                  8   \n",
       "3   2539329        1    prior             1          2                  8   \n",
       "4   2539329        1    prior             1          2                  8   \n",
       "\n",
       "   days_since_prior_order  product_id  add_to_cart_order  reordered  \\\n",
       "0                     NaN         196                  1          0   \n",
       "1                     NaN       14084                  2          0   \n",
       "2                     NaN       12427                  3          0   \n",
       "3                     NaN       26088                  4          0   \n",
       "4                     NaN       26405                  5          0   \n",
       "\n",
       "   Unnamed: 0                             product_name  aisle_id  \\\n",
       "0       195.0                                     Soda      77.0   \n",
       "1     14084.0  Organic Unsweetened Vanilla Almond Milk      91.0   \n",
       "2     12427.0                      Original Beef Jerky      23.0   \n",
       "3     26089.0               Aged White Cheddar Popcorn      23.0   \n",
       "4     26406.0         XL Pick-A-Size Paper Towel Rolls      54.0   \n",
       "\n",
       "   department_id  prices merge_check        price_range    price_range_loc  \\\n",
       "0            7.0     9.0        both  Mid-range product  Mid-range product   \n",
       "1           16.0    12.5        both  Mid-range product  Mid-range product   \n",
       "2           19.0     4.4        both  Low-range product  Low-range product   \n",
       "3           19.0     4.7        both  Low-range product  Low-range product   \n",
       "4           17.0     1.0        both  Low-range product  Low-range product   \n",
       "\n",
       "  day_activity_label  \n",
       "0     Regularly busy  \n",
       "1     Regularly busy  \n",
       "2     Regularly busy  \n",
       "3     Regularly busy  \n",
       "4     Regularly busy  "
      ]
     },
     "execution_count": 62,
     "metadata": {},
     "output_type": "execute_result"
    }
   ],
   "source": [
    "df['day_activity_label'] = df.apply(label_day, axis=1)\n",
    "\n",
    "df.head()"
   ]
  },
  {
   "cell_type": "code",
   "execution_count": 64,
   "id": "b7d18828-0bc5-4787-9260-873c4cea1d29",
   "metadata": {},
   "outputs": [
    {
     "name": "stdout",
     "output_type": "stream",
     "text": [
      "day_activity_label\n",
      "Regularly busy    404165\n",
      "Busiest days      359588\n",
      "Slowest days      236247\n",
      "Name: count, dtype: int64\n"
     ]
    }
   ],
   "source": [
    "# Calculate the counts for each label in 'day_activity_label'\n",
    "label_counts = df['day_activity_label'].value_counts()\n",
    "\n",
    "# Display the counts\n",
    "print(label_counts)"
   ]
  },
  {
   "cell_type": "markdown",
   "id": "57302c12-3025-4f5b-9cac-4818a39af702",
   "metadata": {},
   "source": [
    "#### Comments: everything looks well, any specific comment, the counts is right and the overview out of the head is to the range. "
   ]
  },
  {
   "cell_type": "markdown",
   "id": "2dde7785-2eb9-4416-a13a-6c415088eb63",
   "metadata": {},
   "source": [
    "## 3.2.- Label the busiest periods of the day as \"Most orders,\" \"Average orders,\" and \"Fewest orders"
   ]
  },
  {
   "cell_type": "code",
   "execution_count": 84,
   "id": "aadde436-a8d3-4540-b870-80652dd7f920",
   "metadata": {},
   "outputs": [
    {
     "data": {
      "text/plain": [
       "order_hour_of_day\n",
       "0      5968\n",
       "1      2938\n",
       "2      1867\n",
       "3      1482\n",
       "4      1667\n",
       "5      2684\n",
       "6      9534\n",
       "7     27795\n",
       "8     53841\n",
       "9     77748\n",
       "10    86511\n",
       "11    84881\n",
       "12    80836\n",
       "13    81562\n",
       "14    81395\n",
       "15    81136\n",
       "16    76747\n",
       "17    65223\n",
       "18    51360\n",
       "19    39414\n",
       "20    29656\n",
       "21    24552\n",
       "22    19242\n",
       "23    11961\n",
       "Name: count, dtype: int64"
      ]
     },
     "execution_count": 84,
     "metadata": {},
     "output_type": "execute_result"
    }
   ],
   "source": [
    "# Step 1: Calculate order frequency by hour\n",
    "\n",
    "hour_counts = df['order_hour_of_day'].value_counts().sort_index()\n",
    "hour_counts"
   ]
  },
  {
   "cell_type": "code",
   "execution_count": 86,
   "id": "e0045876-4101-4aa3-8675-fc511bca7789",
   "metadata": {},
   "outputs": [],
   "source": [
    "# Step 2: Determine thresholds for \"Most orders,\" \"Average orders,\" and \"Fewest orders\"\n",
    "\n",
    "# Using quantiles for categorization\n",
    "\n",
    "# top 1/3 for \"Most orders\"\n",
    "\n",
    "most_threshold = hour_counts.quantile(0.66)  \n",
    "\n",
    "# bottom 1/3 for \"Fewest orders\"\n",
    "fewest_threshold = hour_counts.quantile(0.33) \n",
    "\n"
   ]
  },
  {
   "cell_type": "code",
   "execution_count": 88,
   "id": "f542050a-c31f-4d24-b550-636eece39d07",
   "metadata": {},
   "outputs": [
    {
     "data": {
      "text/plain": [
       "67297.32000000002"
      ]
     },
     "execution_count": 88,
     "metadata": {},
     "output_type": "execute_result"
    }
   ],
   "source": [
    "most_threshold"
   ]
  },
  {
   "cell_type": "code",
   "execution_count": 90,
   "id": "a1e5375a-7d0f-4000-aa7a-a510d7692479",
   "metadata": {},
   "outputs": [
    {
     "data": {
      "text/plain": [
       "16256.790000000005"
      ]
     },
     "execution_count": 90,
     "metadata": {},
     "output_type": "execute_result"
    }
   ],
   "source": [
    "fewest_threshold"
   ]
  },
  {
   "cell_type": "code",
   "execution_count": 102,
   "id": "b5564748-a966-4ed4-aa5f-aa98da918193",
   "metadata": {},
   "outputs": [
    {
     "name": "stderr",
     "output_type": "stream",
     "text": [
      "C:\\Users\\cmfag\\AppData\\Local\\Temp\\ipykernel_12380\\51233542.py:2: SettingWithCopyWarning: \n",
      "A value is trying to be set on a copy of a slice from a DataFrame.\n",
      "Try using .loc[row_indexer,col_indexer] = value instead\n",
      "\n",
      "See the caveats in the documentation: https://pandas.pydata.org/pandas-docs/stable/user_guide/indexing.html#returning-a-view-versus-a-copy\n",
      "  df['busiest_period_of_day'] = 'Average orders'  # Default value\n"
     ]
    }
   ],
   "source": [
    "# Step 3: Use .loc to label the 'busiest_period_of_day' based on thresholds\n",
    "df['busiest_period_of_day'] = 'Average orders'  # Default value\n",
    "\n",
    "df.loc[df['order_hour_of_day'] <= fewest_threshold, 'busiest_period_of_day'] = 'Fewest orders'\n",
    "df.loc[df['order_hour_of_day'] > most_threshold, 'busiest_period_of_day'] = 'Most orders'"
   ]
  },
  {
   "cell_type": "code",
   "execution_count": 116,
   "id": "3636ba17-ea8c-47e7-9100-975ba9ec375f",
   "metadata": {},
   "outputs": [
    {
     "data": {
      "text/html": [
       "<div>\n",
       "<style scoped>\n",
       "    .dataframe tbody tr th:only-of-type {\n",
       "        vertical-align: middle;\n",
       "    }\n",
       "\n",
       "    .dataframe tbody tr th {\n",
       "        vertical-align: top;\n",
       "    }\n",
       "\n",
       "    .dataframe thead th {\n",
       "        text-align: right;\n",
       "    }\n",
       "</style>\n",
       "<table border=\"1\" class=\"dataframe\">\n",
       "  <thead>\n",
       "    <tr style=\"text-align: right;\">\n",
       "      <th></th>\n",
       "      <th>order_hour_of_day</th>\n",
       "      <th>busiest_period_of_day</th>\n",
       "    </tr>\n",
       "  </thead>\n",
       "  <tbody>\n",
       "    <tr>\n",
       "      <th>0</th>\n",
       "      <td>8</td>\n",
       "      <td>Fewest orders</td>\n",
       "    </tr>\n",
       "    <tr>\n",
       "      <th>1</th>\n",
       "      <td>8</td>\n",
       "      <td>Fewest orders</td>\n",
       "    </tr>\n",
       "    <tr>\n",
       "      <th>2</th>\n",
       "      <td>8</td>\n",
       "      <td>Fewest orders</td>\n",
       "    </tr>\n",
       "    <tr>\n",
       "      <th>3</th>\n",
       "      <td>8</td>\n",
       "      <td>Fewest orders</td>\n",
       "    </tr>\n",
       "    <tr>\n",
       "      <th>4</th>\n",
       "      <td>8</td>\n",
       "      <td>Fewest orders</td>\n",
       "    </tr>\n",
       "  </tbody>\n",
       "</table>\n",
       "</div>"
      ],
      "text/plain": [
       "   order_hour_of_day busiest_period_of_day\n",
       "0                  8         Fewest orders\n",
       "1                  8         Fewest orders\n",
       "2                  8         Fewest orders\n",
       "3                  8         Fewest orders\n",
       "4                  8         Fewest orders"
      ]
     },
     "execution_count": 116,
     "metadata": {},
     "output_type": "execute_result"
    }
   ],
   "source": [
    "# Check the result\n",
    "df[['order_hour_of_day', 'busiest_period_of_day']].head()"
   ]
  },
  {
   "cell_type": "code",
   "execution_count": 112,
   "id": "4612052e-8dc3-43bb-8b3a-1f8e3536feb9",
   "metadata": {},
   "outputs": [
    {
     "name": "stdout",
     "output_type": "stream",
     "text": [
      "day_activity_label\n",
      "Regularly busy    404165\n",
      "Busiest days      359588\n",
      "Slowest days      236247\n",
      "Name: count, dtype: int64\n"
     ]
    }
   ],
   "source": [
    "label_counts_houw = df['busiest_period_of_day'].value_counts()\n",
    "\n",
    "# Display the counts\n",
    "print(label_counts)\n"
   ]
  },
  {
   "cell_type": "markdown",
   "id": "1745621f-be5e-47a9-9d8f-dd4db5f31070",
   "metadata": {},
   "source": [
    "#### Comment: count is right. "
   ]
  },
  {
   "cell_type": "markdown",
   "id": "d15f3314-4ac7-40fa-9414-900d3abe9977",
   "metadata": {},
   "source": [
    "## 3.3 Export the dataframe"
   ]
  },
  {
   "cell_type": "code",
   "execution_count": 183,
   "id": "743a4b49-3b9e-45de-8e2c-937bc11c5b1b",
   "metadata": {},
   "outputs": [],
   "source": [
    "df_ords_prods_merge.to_pickle(os.path.join(path, 'df_ords_prods_merge.pkl'))"
   ]
  }
 ],
 "metadata": {
  "kernelspec": {
   "display_name": "Python 3 (ipykernel)",
   "language": "python",
   "name": "python3"
  },
  "language_info": {
   "codemirror_mode": {
    "name": "ipython",
    "version": 3
   },
   "file_extension": ".py",
   "mimetype": "text/x-python",
   "name": "python",
   "nbconvert_exporter": "python",
   "pygments_lexer": "ipython3",
   "version": "3.12.7"
  }
 },
 "nbformat": 4,
 "nbformat_minor": 5
}
